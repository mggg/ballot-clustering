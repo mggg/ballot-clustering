{
 "cells": [
  {
   "cell_type": "code",
   "execution_count": 4,
   "metadata": {},
   "outputs": [],
   "source": [
    "import glob\n",
    "import sys\n",
    "sys.path.append('..')\n",
    "from Clustering_Functions import *\n",
    "import numpy as np\n",
    "import pandas as pd\n",
    "import seaborn as sns\n",
    "import matplotlib.pyplot as plt\n",
    "\n",
    "from pyclustering.cluster.kmedians import kmedians as pyclust_kmedians\n",
    "from pyclustering.utils.metric import distance_metric, type_metric"
   ]
  },
  {
   "cell_type": "code",
   "execution_count": 47,
   "metadata": {},
   "outputs": [],
   "source": [
    "# My own code for kmedians from scratch\n",
    "\n",
    "def Manhattan_dist(A,B):\n",
    "    return sum(np.abs(A-B))\n",
    "\n",
    "def my_kmedians(election, k=2, proxy='Borda', borda_style='pes', n_init=5, max_steps = 100, return_centroids=False):\n",
    "    \"\"\"\n",
    "    Returns the clustering obtained by applying the k-medians algorithm to the proxies of the ballots.\n",
    "\n",
    "    Args:\n",
    "        election : dictionary matching ballots with weights.\n",
    "        k : the number of clusters desired.\n",
    "        proxy : choice of {'Borda', 'HH'} for Borda or head-to-head proxy vectors.\n",
    "        borda_style : choice of {'pes', 'avg'}, which is passed to Borda_vector (only if proxy == 'Borda') \n",
    "        n_init : the algorithm runs n_init independent times with different starting centers each time, and outputs the clustering that has the best score from all the runs.\n",
    "        return_centroids : set to True if you want it to also return the centroids of the returned clustering.\n",
    "\n",
    "    Returns:\n",
    "        if return_centroids == False: returns a clustering (list of elections).\n",
    "        if return_centroids == True: returns a tuple (clustering, centroids).\n",
    "    \"\"\"\n",
    "\n",
    "    num_cands = max([item for ranking in election.keys() for item in ranking])\n",
    "\n",
    "    # create a matrix, X, whose rows are the ballots (repeated as many times as the ballot was cast) \n",
    "    # and a dictionary matching each ballot type with its first corresponding row in the matrix\n",
    "    # and a reverse dictionary to match each row number of the matrix with a ballot\n",
    "    X = []\n",
    "    ballot_to_row = dict()\n",
    "    row_to_ballot = dict()\n",
    "    counter = 0\n",
    "    for ballot, weight in election.items():\n",
    "        ballot_to_row[ballot]=counter\n",
    "        for _ in range(weight):\n",
    "            if proxy=='Borda':\n",
    "                X.append(Borda_vector(ballot, num_cands=num_cands, borda_style=borda_style))\n",
    "            else:\n",
    "                X.append(HH_proxy(ballot,num_cands=num_cands))\n",
    "            row_to_ballot[counter]=ballot\n",
    "            counter +=1\n",
    "            \n",
    "    # describe X as a dataframe\n",
    "    dimension = len(X[0])\n",
    "    df = pd.DataFrame(X)\n",
    "    df['assignment']=0\n",
    "    df['best_assignment']=0\n",
    "    best_score = float('inf') #infinity\n",
    "    best_centers = None\n",
    "\n",
    "    for _ in range(n_init):\n",
    "        # randomly select k ballot proxies as the initial medians\n",
    "        initial_medians = []\n",
    "        initial_ballots = []\n",
    "        for count in range(k):\n",
    "            ballot = random.choice(list(election.keys()))\n",
    "            while ballot in initial_ballots: # re-do if duplication                    \n",
    "                ballot = random.choice(list(election.keys()))\n",
    "            initial_ballots.append(ballot)\n",
    "            initial_medians.append(X[ballot_to_row[ballot]])    \n",
    "    \n",
    "        medians = initial_medians\n",
    "        diff_count = 1\n",
    "        step_count = 0\n",
    "        while diff_count>0 and step_count<max_steps:\n",
    "            step_count +=1\n",
    "            diff_count = 0\n",
    "            # find new clusters\n",
    "            score = 0\n",
    "            for ballot, weight in election.items():\n",
    "                row_num = ballot_to_row[ballot]\n",
    "                data_point = X[row_num]\n",
    "                #data_point = df.loc[row_num][:-2]\n",
    "                distances = [Manhattan_dist(data_point,center) for center in medians]\n",
    "                score += weight*min(distances)\n",
    "                assignment = np.argmin(distances)\n",
    "                if df.loc[row_num,'assignment'] != assignment:\n",
    "                    diff_count +=1\n",
    "                    df.loc[row_num,'assignment'] = assignment\n",
    "\n",
    "            # find new centers\n",
    "            medians = [np.median(df[df['assignment']==a].loc[:,0:dimension-1], axis = 0) for a in range(k)]\n",
    "\n",
    "        if score < best_score:\n",
    "            print(score)\n",
    "            df['best_assignment']=df['assignment']\n",
    "            best_centers = medians\n",
    "\n",
    "    # convert the best assignment into a list of dictionaries\n",
    "    C = [dict() for _ in range(k)]\n",
    "    for ballot, weight in election.items():\n",
    "        assignment=df.loc[ballot_to_row[ballot]]['best_assignment']\n",
    "        C[int(assignment)][ballot]=weight\n",
    "\n",
    "    if return_centroids:\n",
    "        return C, best_centers\n",
    "    else:\n",
    "        return C  "
   ]
  },
  {
   "cell_type": "code",
   "execution_count": 48,
   "metadata": {},
   "outputs": [
    {
     "name": "stderr",
     "output_type": "stream",
     "text": [
      "c:\\Users\\ktapp\\AppData\\Local\\Programs\\Python\\Python311\\Lib\\site-packages\\pandas\\core\\dtypes\\cast.py:1641: DeprecationWarning: np.find_common_type is deprecated.  Please use `np.result_type` or `np.promote_types`.\n",
      "See https://numpy.org/devdocs/release/1.25.0-notes.html and the docs for more information.  (Deprecated NumPy 1.25)\n",
      "  return np.find_common_type(types, [])\n"
     ]
    },
    {
     "name": "stdout",
     "output_type": "stream",
     "text": [
      "114664.0\n",
      "128164.0\n",
      "128164.0\n",
      "128164.0\n",
      "114664.0\n"
     ]
    },
    {
     "name": "stderr",
     "output_type": "stream",
     "text": [
      "c:\\Users\\ktapp\\AppData\\Local\\Programs\\Python\\Python311\\Lib\\site-packages\\pandas\\core\\dtypes\\cast.py:1641: DeprecationWarning: np.find_common_type is deprecated.  Please use `np.result_type` or `np.promote_types`.\n",
      "See https://numpy.org/devdocs/release/1.25.0-notes.html and the docs for more information.  (Deprecated NumPy 1.25)\n",
      "  return np.find_common_type(types, [])\n"
     ]
    }
   ],
   "source": [
    "C, centers_test = my_kmedians(election, k=2, proxy='Borda', borda_style='pes', n_init=5, return_centroids=True)"
   ]
  },
  {
   "cell_type": "code",
   "execution_count": 49,
   "metadata": {},
   "outputs": [
    {
     "data": {
      "text/plain": [
       "[array([4., 0., 0., 0., 0., 1., 0.]), array([0., 3., 5., 4., 4., 0., 4.])]"
      ]
     },
     "execution_count": 49,
     "metadata": {},
     "output_type": "execute_result"
    }
   ],
   "source": [
    "centers_test"
   ]
  },
  {
   "cell_type": "code",
   "execution_count": null,
   "metadata": {},
   "outputs": [],
   "source": []
  },
  {
   "cell_type": "code",
   "execution_count": null,
   "metadata": {},
   "outputs": [],
   "source": []
  },
  {
   "cell_type": "code",
   "execution_count": 75,
   "metadata": {},
   "outputs": [],
   "source": [
    "def kmedians(election, k=2, proxy='Borda', borda_style='pes', n_init=50, return_centroids=False):\n",
    "    \"\"\"\n",
    "    Returns the clustering obtained by applying the k-medians algorithm to the proxies of the ballots.\n",
    "\n",
    "    Args:\n",
    "        election : dictionary matching ballots with weights.\n",
    "        k : the number of clusters desired.\n",
    "        proxy : choice of {'Borda', 'HH'} for Borda or head-to-head proxy vectors.\n",
    "        borda_style : choice of {'pes', 'avg'}, which is passed to Borda_vector (only if proxy == 'Borda') \n",
    "        n_init : the algorithm runs n_init independent times with different starting centers each time, and outputs the clustering that has the best score from all the runs.\n",
    "        return_centroids : set to True if you want it to also return the centroids of the returned clustering.\n",
    "\n",
    "    Returns:\n",
    "        if return_centroids == False: returns a clustering (list of elections).\n",
    "        if return_centroids == True: returns a tuple (clustering, centroids).\n",
    "        (the centroids live in the proxy space and are the component-wise medians. They do not necessarily correspond to actual ballots)\n",
    "    \"\"\"\n",
    "    num_cands = max([item for ranking in election.keys() for item in ranking])\n",
    "\n",
    "    # create a matrix whose rows are the ballots (repeated as many times as the ballot was cast) \n",
    "    # and a dictionary matching each ballot type with its first corresponding row in the matrix\n",
    "    # and a reverse dictionary to match each row number of the matrix with a ballot\n",
    "    X = []\n",
    "    ballot_to_row = dict()\n",
    "    row_to_ballot = dict()\n",
    "    counter = 0\n",
    "    for ballot, weight in election.items():\n",
    "        ballot_to_row[ballot]=counter\n",
    "        for _ in range(weight):\n",
    "            if proxy=='Borda':\n",
    "                X.append(Borda_vector(ballot, num_cands=num_cands, borda_style=borda_style))\n",
    "            else:\n",
    "                X.append(HH_proxy(ballot,num_cands=num_cands))\n",
    "            row_to_ballot[counter]=ballot\n",
    "            counter +=1\n",
    "            \n",
    "    metric = distance_metric(type_metric.MANHATTAN)\n",
    "    best_score = float('inf') #infinity\n",
    "    best_centers = None\n",
    "    for _ in range(n_init):\n",
    "        # randomly select k ballot proxies as the initial medians\n",
    "        initial_medians = []\n",
    "        initial_ballots = []\n",
    "        for count in range(k):\n",
    "            ballot = random.choice(list(election.keys()))\n",
    "            while ballot in initial_ballots: # re-do if duplication                    \n",
    "                ballot = random.choice(list(election.keys()))\n",
    "            initial_ballots.append(ballot)\n",
    "            initial_medians.append(X[ballot_to_row[ballot]])\n",
    "\n",
    "        model = pyclust_kmedians(X, ccore=True, initial_medians = initial_medians, \n",
    "                                metric = metric)\n",
    "        model.process()\n",
    "        subsets = model.get_clusters()\n",
    "        centers = model.get_medians() \n",
    "\n",
    "        # pyclustering doesn't output the model's score, so we need to waste time computing it ourselves here.\n",
    "        score = 0\n",
    "        if len(centers)<k: # in the rare chance that the centers are the same\n",
    "            score = float('inf')\n",
    "        else:\n",
    "            for ballot, weight in election.items():\n",
    "                row_num = ballot_to_row[ballot]\n",
    "                data_point = X[row_num]\n",
    "                distances = [metric(data_point,center) for center in centers]\n",
    "                score += (1/2)*weight*min(distances)\n",
    "        if score<best_score:\n",
    "            #print(score)\n",
    "            best_score = score\n",
    "            best_subsets = subsets\n",
    "            best_centers = centers\n",
    "            \n",
    "    # convert best_subsets information into a list of dictionaries\n",
    "    C = [dict() for _ in range(k)]\n",
    "    for clust in range(k):\n",
    "        for row_num in best_subsets[clust]:\n",
    "            ballot = row_to_ballot[row_num]\n",
    "            C[clust][ballot]=election[ballot]\n",
    "    if return_centroids:\n",
    "        return C, best_centers\n",
    "    else:\n",
    "        return C"
   ]
  },
  {
   "cell_type": "code",
   "execution_count": 8,
   "metadata": {},
   "outputs": [],
   "source": [
    "# The Pentland Hills election that's studied in the paper\n",
    "filename = '../scot-elex/7_cands/edinburgh_2017_ward2.csv'\n",
    "num_cands, election, cand_names, ward = csv_parse(filename)\n",
    "parties = party_abrevs(cand_names)"
   ]
  },
  {
   "cell_type": "code",
   "execution_count": 76,
   "metadata": {},
   "outputs": [
    {
     "name": "stdout",
     "output_type": "stream",
     "text": [
      "{0: [5.0, 4.0, 0.0, 0.0, 0.0, 6.0, 0.0], 1: [0.0, 0.0, 6.0, 0.0, 5.0, 0.0, 4.0]}\n",
      "{0: [5.0, 4.0, 0.0, 0.0, 0.0, 6.0, 0.0], 1: [0.0, 0.0, 6.0, 0.0, 5.0, 0.0, 4.0]}\n",
      "{0: [5.0, 4.0, 0.0, 0.0, 0.0, 6.0, 0.0], 1: [0.0, 0.0, 6.0, 0.0, 5.0, 0.0, 4.0]}\n",
      "{0: [5.0, 4.0, 0.0, 0.0, 0.0, 6.0, 0.0], 1: [0.0, 0.0, 6.0, 0.0, 5.0, 0.0, 4.0]}\n",
      "{0: [0.0, 0.0, 6.0, 0.0, 5.0, 0.0, 4.0], 1: [5.0, 4.0, 0.0, 0.0, 0.0, 6.0, 0.0]}\n",
      "{0: [5.0, 4.0, 0.0, 0.0, 0.0, 6.0, 0.0], 1: [0.0, 0.0, 6.0, 0.0, 5.0, 0.0, 4.0]}\n",
      "{0: [5.0, 4.0, 0.0, 0.0, 0.0, 6.0, 0.0], 1: [0.0, 0.0, 6.0, 0.0, 5.0, 0.0, 4.0]}\n",
      "{0: [5.0, 4.0, 0.0, 0.0, 0.0, 6.0, 0.0], 1: [0.0, 0.0, 6.0, 0.0, 5.0, 0.0, 4.0]}\n",
      "{0: [5.0, 4.0, 0.0, 0.0, 0.0, 6.0, 0.0], 1: [0.0, 0.0, 6.0, 0.0, 5.0, 0.0, 4.0]}\n",
      "{0: [5.0, 4.0, 0.0, 0.0, 0.0, 6.0, 0.0], 1: [0.0, 0.0, 6.0, 0.0, 5.0, 0.0, 4.0]}\n"
     ]
    }
   ],
   "source": [
    "for count in range(10):\n",
    "    C, centers = kmedians(election, k=2, proxy='Borda', borda_style='pes', n_init=20, return_centroids=True)\n",
    "    centers = {0:centers[0], 1:centers[1]}\n",
    "    score, _ = Cluster_from_given_centers(election, centers, proxy_type='BP', centers_live_in_proxy_space=True)\n",
    "    if score == 52509:\n",
    "        print(centers)\n"
   ]
  },
  {
   "cell_type": "code",
   "execution_count": 77,
   "metadata": {},
   "outputs": [
    {
     "name": "stdout",
     "output_type": "stream",
     "text": [
      "52509.0\n"
     ]
    }
   ],
   "source": [
    "David_centers = {0:[5,0,0,0,0,5,0], 1:[0,0,5,2,5,0,4]}\n",
    "score, _ = Cluster_from_given_centers(election, centers, proxy_type='BP', centers_live_in_proxy_space=True)\n",
    "print(score)"
   ]
  },
  {
   "cell_type": "code",
   "execution_count": 71,
   "metadata": {},
   "outputs": [
    {
     "name": "stdout",
     "output_type": "stream",
     "text": [
      "52509.0\n"
     ]
    }
   ],
   "source": [
    "centers_test = {0:centers_test[0], 1:centers_test[1]}\n",
    "test_score, _ = Cluster_from_given_centers(election, centers_test, proxy_type='BP', centers_live_in_proxy_space=True)\n",
    "print(test_score)"
   ]
  },
  {
   "cell_type": "code",
   "execution_count": 13,
   "metadata": {},
   "outputs": [],
   "source": [
    "C, centers = kmedians(election, k=2, proxy='Borda', borda_style='pes', n_init=50, return_centroids=True)"
   ]
  },
  {
   "cell_type": "code",
   "execution_count": 14,
   "metadata": {},
   "outputs": [
    {
     "data": {
      "text/plain": [
       "[[5.0, 4.0, 0.0, 0.0, 0.0, 6.0, 0.0], [0.0, 0.0, 6.0, 0.0, 5.0, 0.0, 4.0]]"
      ]
     },
     "execution_count": 14,
     "metadata": {},
     "output_type": "execute_result"
    }
   ],
   "source": [
    "centers"
   ]
  },
  {
   "cell_type": "code",
   "execution_count": 15,
   "metadata": {},
   "outputs": [],
   "source": [
    "C, centers = kmedians(election, k=2, proxy='Borda', borda_style='pes', n_init=200, return_centroids=True)"
   ]
  },
  {
   "cell_type": "code",
   "execution_count": 20,
   "metadata": {},
   "outputs": [
    {
     "data": {
      "text/plain": [
       "{0: [5.0, 4.0, 0.0, 0.0, 0.0, 6.0, 0.0],\n",
       " 1: [0.0, 0.0, 6.0, 0.0, 5.0, 0.0, 4.0]}"
      ]
     },
     "execution_count": 20,
     "metadata": {},
     "output_type": "execute_result"
    }
   ],
   "source": [
    "BP_centers = {i:centers[i] for i in range(2)}\n",
    "BP_centers"
   ]
  },
  {
   "cell_type": "code",
   "execution_count": 22,
   "metadata": {},
   "outputs": [
    {
     "data": {
      "text/plain": [
       "{0: [5, 0, 0, 0, 0, 5, 0], 1: [0, 0, 5, 2, 5, 0, 4]}"
      ]
     },
     "execution_count": 22,
     "metadata": {},
     "output_type": "execute_result"
    }
   ],
   "source": [
    "BP_David = {0:[5,0,0,0,0,5,0], 1:[0,0,5,2,5,0,4]}\n",
    "BP_David"
   ]
  },
  {
   "cell_type": "code",
   "execution_count": 31,
   "metadata": {},
   "outputs": [
    {
     "name": "stdout",
     "output_type": "stream",
     "text": [
      "52509.0\n",
      "52509.0\n"
     ]
    }
   ],
   "source": [
    "BP_score, C = Cluster_from_given_centers(election, BP_centers, proxy_type='BP', centers_live_in_proxy_space=True)\n",
    "print(BP_score)\n",
    "\n",
    "BP_David_score, C = Cluster_from_given_centers(election, BP_David, proxy_type='BP', centers_live_in_proxy_space=True)\n",
    "print(BP_score)"
   ]
  },
  {
   "cell_type": "code",
   "execution_count": 23,
   "metadata": {},
   "outputs": [],
   "source": [
    "def Cluster_from_given_centers(election, centers, proxy_type, order=1, centers_live_in_proxy_space = False):\n",
    "    \"\"\"\n",
    "    Given the centers, cluster the ballots according to their closest center\n",
    "    and return the summed distance and the clustering.\n",
    "    ARGS:\n",
    "        election: dictionary mapping ballots to weights\n",
    "        centers: dictionary mapping center index to ballot or ballot proxy\n",
    "        proxy_type: one of {'BA', 'BP', 'HH'} for Borda average, Borda pessimistic, or HH proxy\n",
    "        order: the choice of p for L^p distance.  Use 1 for Manhattan, 2 for Euclidean.\n",
    "        centers_live_in_proxy_space: True if the centers are in proxy space, False if they are in ballot space\n",
    "    RETURNS:\n",
    "        (summed distance, clustering)\n",
    "        summed distance = sum of L^p distances from each ballot to its closest center\n",
    "        clustering = dictionary mapping index to cluster.\n",
    "    \"\"\"\n",
    "    num_cands = max([item for ranking in election.keys() for item in ranking])\n",
    "    k = len(centers)\n",
    "\n",
    "    C = {i:dict() for i in range(k)} # initialize clustering\n",
    "    running_sum = 0\n",
    "    for ballot, weight in election.items():\n",
    "        if centers_live_in_proxy_space:\n",
    "            if proxy_type == 'BA':\n",
    "                ballot_proxy = Borda_vector(ballot, num_cands, borda_style='avg')\n",
    "            elif proxy_type == 'BP':\n",
    "                ballot_proxy = Borda_vector(ballot, num_cands, borda_style='pes')\n",
    "            elif proxy_type == 'HH':\n",
    "                ballot_proxy = HH_proxy(ballot, num_cands)\n",
    "            dists = [(1/2)*np.linalg.norm(ballot_proxy - centers[i],ord=order) for i in centers.keys()]\n",
    "        else:\n",
    "            if proxy_type == 'BA':\n",
    "                dists = [Borda_dist(ballot, centers[i], num_cands, borda_style='avg', order=order) for i in centers.keys()]\n",
    "            elif proxy_type == 'BP':\n",
    "                dists = [Borda_dist(ballot, centers[i], num_cands, borda_style='pes', order=order) for i in centers.keys()]\n",
    "            elif proxy_type == 'HH':\n",
    "                dists = [HH_dist(ballot, centers[i], num_cands, order=order) for i in centers.keys()]\n",
    "\n",
    "        running_sum += weight*np.min(dists)\n",
    "        clusts = [x for x in range(k) if dists[x]==np.min(dists)] # multi-valued argmin\n",
    "        for clust in clusts:\n",
    "            C[clust][ballot]=weight/len(clusts)\n",
    "    return running_sum, C"
   ]
  },
  {
   "cell_type": "code",
   "execution_count": 40,
   "metadata": {},
   "outputs": [
    {
     "name": "stdout",
     "output_type": "stream",
     "text": [
      "{0: [0.0, -1.0, -1.0, -1.0, 0.0, 0.0, -1.0, -1.0, -1.0, 0.0, 0.0, 1.0, 1.0, 1.0, 1.0, 1.0, 1.0, 1.0, 1.0, 1.0, 0.0], 1: [1.0, 1.0, 1.0, 1.0, 1.0, 1.0, 0.0, -1.0, 0.0, -1.0, 0.0, -1.0, 0.0, -1.0, 0.0, 1.0, -1.0, 1.0, -1.0, 0.0, 1.0]}\n",
      "52786.0\n",
      "48681.0\n"
     ]
    }
   ],
   "source": [
    "C, HH_centers = kmedians(election, k=2, proxy='HH', n_init=10000, return_centroids=True)\n",
    "HH_centers = {0:HH_centers[0], 1:HH_centers[1]}\n",
    "\n",
    "HH_centers_IP = {0:[1.0, 1.0, 1.0, 1.0, 1.0, 1.0, 0.0, 0.0, 0.0, -1.0, 0.0, 0.0, 0.0, -1.0, 0.0, 0.0, -1.0, 0.0, -1.0, 0.0, 1.0],\n",
    "                 1:[0.0, -1.0, -1.0, -1.0, 0.0, -1.0, -1.0, 0.0, -1.0, 0.0, -1.0, 1.0, 1.0, 1.0, 1.0, -1.0, 1.0, 0.0, 1.0, 1.0, -1.0]}\n",
    "\n",
    "print(HH_centers)\n",
    "\n",
    "HH_score, C = Cluster_from_given_centers(election, HH_centers, proxy_type='HH', centers_live_in_proxy_space=True)\n",
    "print(HH_score)\n",
    "\n",
    "HH_David_score, C = Cluster_from_given_centers(election, HH_centers_IP, proxy_type='HH', centers_live_in_proxy_space=True)\n",
    "print(HH_David_score)"
   ]
  },
  {
   "cell_type": "code",
   "execution_count": null,
   "metadata": {},
   "outputs": [],
   "source": []
  },
  {
   "cell_type": "code",
   "execution_count": null,
   "metadata": {},
   "outputs": [],
   "source": []
  },
  {
   "cell_type": "code",
   "execution_count": 38,
   "metadata": {},
   "outputs": [
    {
     "name": "stdout",
     "output_type": "stream",
     "text": [
      "52786.0\n",
      "48681.0\n"
     ]
    }
   ],
   "source": [
    "HH_score, C = Cluster_from_given_centers(election, HH_centers, proxy_type='HH', centers_live_in_proxy_space=True)\n",
    "print(HH_score)\n",
    "\n",
    "HH_David_score, C = Cluster_from_given_centers(election, HH_centers_IP, proxy_type='HH', centers_live_in_proxy_space=True)\n",
    "print(HH_David_score)"
   ]
  },
  {
   "cell_type": "code",
   "execution_count": null,
   "metadata": {},
   "outputs": [],
   "source": []
  }
 ],
 "metadata": {
  "kernelspec": {
   "display_name": "Python 3",
   "language": "python",
   "name": "python3"
  },
  "language_info": {
   "codemirror_mode": {
    "name": "ipython",
    "version": 3
   },
   "file_extension": ".py",
   "mimetype": "text/x-python",
   "name": "python",
   "nbconvert_exporter": "python",
   "pygments_lexer": "ipython3",
   "version": "3.11.8"
  }
 },
 "nbformat": 4,
 "nbformat_minor": 2
}
