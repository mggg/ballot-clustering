{
 "cells": [
  {
   "cell_type": "code",
   "execution_count": 1,
   "metadata": {},
   "outputs": [],
   "source": [
    "import numpy as np \n",
    "import matplotlib.pyplot as plt\n",
    "import pandas as pd\n",
    "import seaborn as sns\n",
    "from sklearn.manifold import MDS \n",
    "import glob\n",
    "import math\n",
    "import re\n",
    "import sys\n",
    "sys.path.append('..')\n",
    "from Clustering_Functions import *\n",
    "from itertools import combinations\n",
    "import itertools\n",
    "import os\n",
    "from sklearn.metrics import silhouette_score, calinski_harabasz_score, davies_bouldin_score\n",
    "import warnings\n",
    "\n",
    "warnings.filterwarnings(\"ignore\", category=DeprecationWarning)"
   ]
  },
  {
   "cell_type": "code",
   "execution_count": 2,
   "metadata": {},
   "outputs": [],
   "source": [
    "def Borda_vector(ballot, num_cands , borda_style='pes', start = 0):\n",
    "    \"\"\"\n",
    "    Returns the Borda vector of the given (simple or generalized) ballot.\n",
    "        \n",
    "    Args:\n",
    "        ballot : a simple or generalized ballot (tuple of integers or of sets of integers). \n",
    "        num_cands : the number of candidates. \n",
    "        borda_style : choice of {'pes', 'avg'}\n",
    "        start : the lowest score awarded; for example, set start=1 if you want a full ballot to award {1,2,...,num_cands} points.\n",
    "     \n",
    "    Returns:\n",
    "        the Borda vector (np.array) of the given generalized ballot.                \n",
    "    \"\"\"\n",
    "\n",
    "    # append set of missing candidates to end of ballot\n",
    "    ballot = list(ballot)\n",
    "    missing_cands = set(range(1,num_cands+1))\n",
    "    for c in ballot:\n",
    "        S = c if type(c) == set else {c}\n",
    "        for x in S:\n",
    "            missing_cands.discard(x)\n",
    "    if len(missing_cands) > 0:\n",
    "        ballot.append(missing_cands)\n",
    "    # compute Borda vector\n",
    "    score_queue = list(range(start, start+num_cands))\n",
    "    to_return = [0 for _ in range(num_cands)]\n",
    "    for c in ballot:\n",
    "        S = c if type(c) == set else {c}\n",
    "        scores = [score_queue.pop() for _ in range(len(S))]\n",
    "        points = np.mean(scores) if borda_style == 'avg' else min(scores)\n",
    "        for x in S:\n",
    "            to_return[x-1] = points\n",
    "\n",
    "    return np.array(to_return)"
   ]
  },
  {
   "cell_type": "code",
   "execution_count": 3,
   "metadata": {},
   "outputs": [],
   "source": [
    "def Reverse_Borda(proxy):\n",
    "    \"\"\" \n",
    "    Returns the generalized ballot corresponding to the given Borda proxy vector.\n",
    "    Returns a simple ballot if possible, otherwise a generalized ballot\n",
    "    Works with any borda_style convention ('pes' or 'avg') \n",
    "    \"\"\"\n",
    "    num_cands = len(proxy)\n",
    "\n",
    "    proxy = list(proxy)\n",
    "    to_return = []\n",
    "    cands_placed = []\n",
    "    while len(cands_placed) < num_cands:\n",
    "        S = [x for x in range(1,num_cands+1) if proxy[x-1]==np.max(proxy)] # best-scoring candidates\n",
    "        cands_placed.extend(S)\n",
    "        to_return.append(set(S))\n",
    "        for x in S:\n",
    "            proxy[x-1] = -1\n",
    "\n",
    "    # return a simple ballot if possible\n",
    "    if all(len(c)==1 for c in to_return[:-1]):\n",
    "        return tuple([list(c)[0] for c in to_return if len(c)==1])\n",
    "    else:\n",
    "        return tuple(to_return)"
   ]
  },
  {
   "cell_type": "code",
   "execution_count": 4,
   "metadata": {},
   "outputs": [],
   "source": [
    "def HH_proxy(ballot,num_cands):\n",
    "    \"\"\"\n",
    "    Returns the head-to-head proxy vector of the given (simple or generalized) ballot.\n",
    "        \n",
    "    This is a vector with one entry for each pair of candidates ordered in the natural way; namely {(1,2),(1,3),...,(1,n),(2,3),...}. \n",
    "    The entries lie in {-1,0,1} depending on whether the lower-indexed candidate {looses, ties, wins} the head-to-head comparison. \n",
    "\n",
    "    Args:\n",
    "        ballot: a simple or generalized ballot (tuple of integers or of sets of integers).\n",
    "    \n",
    "    Returns:\n",
    "        The head-to-head proxy vector (np.array)\n",
    "    \"\"\"\n",
    "    # append set of missing candidates to end of ballot\n",
    "    ballot = list(ballot)\n",
    "    missing_cands = set(range(1,num_cands+1))\n",
    "    for c in ballot:\n",
    "        S = c if type(c) == set else {c}\n",
    "        for x in S:\n",
    "            missing_cands.discard(x)\n",
    "    if len(missing_cands) > 0:\n",
    "        ballot.append(missing_cands)\n",
    "\n",
    "    M = np.full([num_cands,num_cands], np.nan)\n",
    "\n",
    "    # first place the zeros for ties and build the unpacked ballot\n",
    "    unpacked_ballot = []\n",
    "    for c in ballot:\n",
    "        S = c if type(c) == set else {c}\n",
    "        if len(S)>1:\n",
    "            for x,y in combinations(S,2):\n",
    "                M[x-1,y-1] = 0\n",
    "                M[y-1,x-1] = 0\n",
    "        unpacked_ballot.extend(S)\n",
    "\n",
    "    # now place the -1 and 1 entries\n",
    "    for x,y in combinations(unpacked_ballot,2):\n",
    "        if M[x-1,y-1] != 0:\n",
    "            M[x-1,y-1] = 1\n",
    "            M[y-1,x-1] = -1\n",
    "\n",
    "    # flatten the matrix into a vector\n",
    "    to_return = []\n",
    "    for x,y in combinations(range(num_cands),2):\n",
    "        to_return.append(M[x,y])\n",
    "    return np.array(to_return)"
   ]
  },
  {
   "cell_type": "code",
   "execution_count": 5,
   "metadata": {},
   "outputs": [],
   "source": [
    "def Reverse_HH(proxy):\n",
    "    \"\"\" \n",
    "    Returns the (simple or generalized) ballot corresponding to the given HH proxy vector,\n",
    "    or None if the proxy is inconsistent.\n",
    "    Any positive entry (not just +1) is interpreted as a win for the lower-indexed candidate, and any negative entry a loss,\n",
    "    while a zero entry indicates a tie.\n",
    "    Returns a simple ballot if possible, otherwise a generalized ballot.\n",
    "    \"\"\"\n",
    "    # determine the number of candidates\n",
    "    proxy = list(proxy)\n",
    "    A = np.sqrt(1+8*len(proxy))\n",
    "    if not A.is_integer():\n",
    "        raise ValueError(\"Invalid proxy vector\")\n",
    "    num_cands = int((1+A)/2)\n",
    "    \n",
    "    cand_pairs = list(combinations(range(1,num_cands+1),2))\n",
    "    ballot = [{num_cands}] # initialize ballot: bullet vote for last candidate\n",
    "\n",
    "    # We'll work through cand_pairs (i,j) in reverse order.  \n",
    "    # For 5 candidates, the order is (4,5) | (3,5), (3,4) | (2,5), (2,4), (2,3) | (1,5), (1,4), (1,3), (1,2)\n",
    "    # which breaks into groups for i = 4,3,2,1\n",
    "    # for each group, we add i to the top of the ballot, and then use the rest of the group's information to reposition i correctly\n",
    "    # (or return None if the rest of the group has inconsisent information).\n",
    "    for i in range(num_cands-1,0,-1):\n",
    "        group_indices = [x for x in range(len(cand_pairs)) if cand_pairs[x][0]==i]\n",
    "        left_of_i = [cand_pairs[x][1] for x in group_indices if proxy[x]<0]\n",
    "        right_of_i = [cand_pairs[x][1] for x in group_indices if proxy[x]>0]\n",
    "        match_i = [cand_pairs[x][1] for x in group_indices if proxy[x] == 0]\n",
    "        ballot_map = [] # has one entry {-1,0,+1} for each set in the ballot, indicating whether the set should be left, right, or containing i.\n",
    "        for c in ballot:\n",
    "            S = c if type(c) == set else {c}\n",
    "            if all(x in left_of_i for x in S):\n",
    "                ballot_map.append(-1)\n",
    "            elif all(x in right_of_i for x in S):\n",
    "                ballot_map.append(1)\n",
    "            elif all(x in match_i for x in S):\n",
    "                ballot_map.append(0)\n",
    "            else:\n",
    "                return None # inconsistent proxy\n",
    "            \n",
    "        zero_indices = [x for x in range(len(ballot_map)) if ballot_map[x]==0]\n",
    "        if (ballot_map != sorted(ballot_map)) or (len(zero_indices)>1):\n",
    "            return None # inconsistent proxy\n",
    "        \n",
    "        if len(zero_indices)==0:\n",
    "            insertion_index = len(ballot_map) if all(val <= 0 for val in ballot_map) else min([x for x in range(len(ballot_map)) if ballot_map[x] >=0])\n",
    "            ballot.insert(insertion_index,{i})\n",
    "            #print(f'inserting {i} at {insertion_index} to get {ballot}')    \n",
    "        else:\n",
    "            insertion_index = zero_indices[0]\n",
    "            ballot[insertion_index] = ballot[insertion_index].union({i})\n",
    "            #print(f'adding {i} to {insertion_index} to get {ballot}')\n",
    "    # return a simple ballot if possible\n",
    "    if all(len(c)==1 for c in ballot[:-1]):\n",
    "        return tuple([list(c)[0] for c in ballot if len(c)==1])\n",
    "    else:\n",
    "        return tuple(ballot)"
   ]
  },
  {
   "cell_type": "code",
   "execution_count": 12,
   "metadata": {},
   "outputs": [
    {
     "name": "stdout",
     "output_type": "stream",
     "text": [
      "({4}, {2, 3}, {1}, {5, 6, 7}, {8, 9, 10})\n",
      "({4}, {2, 3}, {1}, {5, 6, 7}, {8, 9, 10})\n"
     ]
    }
   ],
   "source": [
    "b = (4, {2,3}, 1, {5,6,7})\n",
    "p = HH_proxy(b,10)\n",
    "print(Reverse_HH(HH_proxy(b,10)))\n",
    "print(Reverse_Borda(Borda_vector(b,10)))"
   ]
  },
  {
   "cell_type": "code",
   "execution_count": 13,
   "metadata": {},
   "outputs": [
    {
     "name": "stdout",
     "output_type": "stream",
     "text": [
      "(4, 6, 3)\n",
      "(4, 6, 3)\n"
     ]
    }
   ],
   "source": [
    "b = (4, 6, 3)\n",
    "p = HH_proxy(b,10)\n",
    "print(Reverse_HH(HH_proxy(b,10)))\n",
    "print(Reverse_Borda(Borda_vector(b,10)))"
   ]
  },
  {
   "cell_type": "code",
   "execution_count": 9,
   "metadata": {},
   "outputs": [],
   "source": [
    "filepath = '../ballot-clustering old versions'\n",
    "dfK = pd.read_pickle(f'{filepath}/results_2025.pkl') # heuristic results\n",
    "dfIP = pd.read_pickle(f'{filepath}/IP_results_v2.pkl') # IP results"
   ]
  },
  {
   "cell_type": "code",
   "execution_count": 10,
   "metadata": {},
   "outputs": [],
   "source": [
    "# create `df` dataframe to hold IP and heuristic results.\n",
    "d_proxy = {'bordaa': 'BA', 'bordap': 'BP', 'hh': 'HH'}\n",
    "df = pd.DataFrame(columns=['filename', 'num_cands', 'method', 'proxy_type', 'technique', \n",
    "                           'centers', 'proxies_of_centers', 'center_proxy_match_good','clustering'])\n",
    "\n",
    "# Add the IP results to the dataframe\n",
    "\n",
    "for index in dfIP.index:\n",
    "    filename = f\"{dfIP['election'][index]}.csv\" \n",
    "    num_cands = dfIP['num_candidates'][index]\n",
    "        \n",
    "    proxies_of_centers = dfIP['centroids'][index]\n",
    "    clustering = dfIP['ballots'][index]\n",
    "    method = dfIP['method'][index]\n",
    "    proxy_type = d_proxy[dfIP['proxy'][index]]\n",
    "    technique = f\"{method}_{proxy_type}\"\n",
    "\n",
    "    if proxy_type == 'HH':\n",
    "        centers = {i: Reverse_HH(proxy) for i, proxy in proxies_of_centers.items()}\n",
    "        center_proxy_match = all(centers[i] is not None for i in centers)\n",
    "    else:\n",
    "        centers = {i: Reverse_Borda(proxy) for i, proxy in proxies_of_centers.items()}\n",
    "        borda_style = 'pes' if proxy_type == 'BP' else 'avg'\n",
    "        center_proxy_match = all(all(Borda_vector(centers[i],num_cands, borda_style) == np.array(proxy)) for i, proxy in proxies_of_centers.items())\n",
    "\n",
    "    t = df.shape[0]\n",
    "    df.loc[t] = [filename, num_cands, method, proxy_type, technique,\n",
    "                  centers, proxies_of_centers, center_proxy_match, clustering]"
   ]
  },
  {
   "cell_type": "code",
   "execution_count": 11,
   "metadata": {},
   "outputs": [],
   "source": [
    "# add the heuristic results to the dataframe\n",
    "\n",
    "D = {'meanBA': ('Lloyd', 'BA'), 'meanBC': ('Lloyd', 'BP'), 'meanH': ('Lloyd', 'HH'), \n",
    "     'medoBA': ('PAM', 'BA'), 'medoBC': ('PAM', 'BP'), 'medoH': ('PAM', 'HH'), 'slate': ('slate', None)}\n",
    "\n",
    "for index in dfK.index:\n",
    "    filename = dfK['filename'][index] \n",
    "    num_cands = dfK['num_cands'][index]\n",
    "    clustering = dfK['clustering'][index]\n",
    "    m = dfK['method'][index]\n",
    "    if m == 'slate_weak':\n",
    "        continue\n",
    "    method, proxy_type = D[m]\n",
    "\n",
    "    technique = method if method == 'slate' else f\"{method}_{proxy_type}\"\n",
    "\n",
    "    if method == 'Lloyd':\n",
    "        proxies_of_centers_as_array = dfK['centers'][index]\n",
    "        proxies_of_centers = {0: proxies_of_centers_as_array[0], 1: proxies_of_centers_as_array[1]}\n",
    "        if proxy_type == 'HH':\n",
    "            centers = {i: Reverse_HH(proxy) for i, proxy in proxies_of_centers.items()}\n",
    "            center_proxy_match = all(centers[i] is not None for i in centers)\n",
    "        else:\n",
    "            centers = {i: Reverse_Borda(proxy) for i, proxy in proxies_of_centers.items()}\n",
    "            borda_style = 'pes' if proxy_type == 'BP' else 'avg'\n",
    "            center_proxy_match = all(all(Borda_vector(centers[i],num_cands, borda_style) == np.array(proxy)) for i, proxy in proxies_of_centers.items())\n",
    "    elif method == 'PAM':\n",
    "        centers = dfK['centers'][index]\n",
    "        if proxy_type == 'HH':\n",
    "            proxies_of_centers = {i: HH_proxy(centers[i], num_cands) for i, center in centers.items()}\n",
    "            center_proxy_match = True\n",
    "        else:\n",
    "            borda_style = 'pes' if proxy_type == 'BP' else 'avg'\n",
    "            proxies_of_centers = {i: Borda_vector(center,num_cands, borda_style) for i, center in centers.items()}\n",
    "            center_proxy_match = True\n",
    "    else:\n",
    "        centers = dfK['centers'][index]\n",
    "        proxies_of_centers = None\n",
    "        center_proxy_match = None\n",
    "    t = df.shape[0]\n",
    "    df.loc[t] = [filename, num_cands, method, proxy_type, technique, centers, proxies_of_centers, center_proxy_match, clustering]"
   ]
  },
  {
   "cell_type": "code",
   "execution_count": 12,
   "metadata": {},
   "outputs": [],
   "source": [
    "# df.to_pickle(f'{filepath}/merged_data_with_generalized_ballots.pkl')"
   ]
  },
  {
   "cell_type": "code",
   "execution_count": 16,
   "metadata": {},
   "outputs": [],
   "source": [
    "filepath = '../../ballot-clustering old versions'\n",
    "df = pd.read_pickle(f'{filepath}/merged_data_with_generalized_ballots.pkl')"
   ]
  },
  {
   "cell_type": "code",
   "execution_count": 17,
   "metadata": {},
   "outputs": [
    {
     "data": {
      "text/plain": [
       "Index(['filename', 'num_cands', 'method', 'proxy_type', 'technique', 'centers',\n",
       "       'proxies_of_centers', 'center_proxy_match_good', 'clustering'],\n",
       "      dtype='object')"
      ]
     },
     "execution_count": 17,
     "metadata": {},
     "output_type": "execute_result"
    }
   ],
   "source": [
    "df.columns"
   ]
  },
  {
   "cell_type": "code",
   "execution_count": 30,
   "metadata": {},
   "outputs": [
    {
     "data": {
      "text/plain": [
       "array(['continuous_BA', 'continuous_BP', 'continuous_HH',\n",
       "       'continuous_rest_BA', 'continuous_rest_BP', 'continuous_rest_HH',\n",
       "       'discrete_BA', 'discrete_BP', 'discrete_HH', 'Lloyd_BP',\n",
       "       'Lloyd_BA', 'Lloyd_HH', 'PAM_BP', 'PAM_BA', 'PAM_HH', 'slate'],\n",
       "      dtype=object)"
      ]
     },
     "execution_count": 30,
     "metadata": {},
     "output_type": "execute_result"
    }
   ],
   "source": [
    "df['technique'].unique()"
   ]
  },
  {
   "cell_type": "code",
   "execution_count": 31,
   "metadata": {},
   "outputs": [],
   "source": [
    "# create a new dataframe df2 that holds old and new data for 7-candidate elections\n",
    "# and add the working results of df to it.\n",
    "\n",
    "df2 = pd.DataFrame(columns=['filename', 'num_clusters', 'num_cands', 'method', 'proxy_type', 'technique', 'centers',\n",
    "       'proxies_of_centers','clustering'])\n",
    "for index in df.index:\n",
    "    filename = df['filename'][index]\n",
    "    num_cands = df['num_cands'][index]\n",
    "    if num_cands !=7:\n",
    "        continue\n",
    "    num_clusters = len(df['centers'][index])\n",
    "    method = df['method'][index]\n",
    "    proxy_type = df['proxy_type'][index]\n",
    "    technique = df['technique'][index]\n",
    "    if not technique in ['continuous_BP', 'continuous_rest_BP',\n",
    "       'discrete_BA', 'discrete_BP', 'discrete_HH', 'Lloyd_BP',\n",
    "       'Lloyd_BA', 'Lloyd_HH', 'PAM_BP', 'PAM_BA', 'PAM_HH', 'slate']:\n",
    "        continue\n",
    "    centers = df['centers'][index]\n",
    "    proxies_of_centers = df['proxies_of_centers'][index]\n",
    "    clustering = df['clustering'][index]\n",
    "\n",
    "    t = df2.shape[0]\n",
    "    df2.loc[t] = [filename, num_clusters, num_cands, method, proxy_type, technique, centers,\n",
    "                  proxies_of_centers, clustering]"
   ]
  },
  {
   "cell_type": "code",
   "execution_count": 4,
   "metadata": {},
   "outputs": [],
   "source": [
    "filename_list = df2['filename'].unique()"
   ]
  },
  {
   "cell_type": "code",
   "execution_count": null,
   "metadata": {},
   "outputs": [],
   "source": [
    "# add 3-means (Lloyd) clustering results to df2\n",
    "\n",
    "for filename in filename_list:\n",
    "    full_filename = f'../scot-elex/7_cands/{filename}'\n",
    "    num_cands, election, cand_names, ward = csv_parse(full_filename)\n",
    "    k = 3\n",
    "    print(filename)\n",
    "\n",
    "    C, centers = kmeans(election, k=3, proxy='Borda', borda_style='pes', return_centroids=True)\n",
    "    t = df2.shape[0]\n",
    "    df2.loc[t] = [filename, 3, 7, 'Lloyd', 'BP', 'Lloyd_BP',\n",
    "                   {i:Reverse_Borda(centers[i]) for i in range(k)},\n",
    "                   {i:centers[i] for i in range(k)},\n",
    "                   {i:C[i] for i in range(k)}]\n",
    "    \n",
    "    C, centers = kmeans(election, k=3, proxy='HH', return_centroids=True)\n",
    "    t = df2.shape[0]\n",
    "    df2.loc[t] = [filename, 3, 7, 'Lloyd', 'HH', 'Lloyd_HH',\n",
    "                   {i:Reverse_HH(centers[i]) for i in range(k)},\n",
    "                   {i:centers[i] for i in range(k)},\n",
    "                   {i:C[i] for i in range(k)}]"
   ]
  },
  {
   "cell_type": "code",
   "execution_count": null,
   "metadata": {},
   "outputs": [],
   "source": [
    "# add 3-medoids (PAM) clustering results to df2\n",
    "for filename in filename_list:\n",
    "    full_filename = f'../scot-elex/7_cands/{filename}'\n",
    "    num_cands, election, cand_names, ward = csv_parse(full_filename)\n",
    "    k = 3\n",
    "    print(filename)\n",
    "\n",
    "    C, centers = kmedoids(election, k=3, proxy='Borda', borda_style='pes', return_medoids=True)\n",
    "    t = df2.shape[0]\n",
    "    df2.loc[t] = [filename, 3, 7, 'PAM', 'BP', 'PAM_BP',\n",
    "                   {i:centers[i] for i in range(k)},\n",
    "                   {i:Borda_vector(centers[i], num_cands) for i in range(k)},\n",
    "                   {i:C[i] for i in range(k)}]\n",
    "    \n",
    "    C, centers = kmedoids(election, k=3, proxy='HH', return_medoids=True)\n",
    "    t = df2.shape[0]\n",
    "    df2.loc[t] = [filename, 3, 7, 'PAM', 'HH', 'PAM_HH',\n",
    "                   {i:centers[i] for i in range(k)},\n",
    "                   {i:HH_proxy(centers[i], num_cands) for i in range(k)},\n",
    "                   {i:C[i] for i in range(k)}]"
   ]
  },
  {
   "cell_type": "code",
   "execution_count": null,
   "metadata": {},
   "outputs": [],
   "source": [
    "# add modularity clustering results to df2\n",
    "\n",
    "df3 = pd.read_pickle(f'../../ballot-clustering old versions/ballot-clustering Jan 2025 version/modularity_clusterings_plus.pkl')\n",
    "\n",
    "for filename in filename_list:\n",
    "    full_filename = f'scot-elex\\\\7_cands\\\\{filename}'\n",
    "    filtered = df3[df3['filename']==full_filename]\n",
    "    if len(filtered) == 0:\n",
    "        print(f'none for {filename} = {full_filename}')\n",
    "        continue\n",
    "\n",
    "    row_index = filtered.index[0]\n",
    "    C = df3['clustering'][row_index]\n",
    "    k = df3['k'][row_index]\n",
    "    t = df2.shape[0]\n",
    "    df2.loc[t] = [filename, k, 7, 'modularity', None, 'modularity', None,\n",
    "                  None, C]\n",
    "    print(f'{filename} was added')"
   ]
  },
  {
   "cell_type": "code",
   "execution_count": 64,
   "metadata": {},
   "outputs": [],
   "source": [
    "# save it.\n",
    "#df2.to_pickle(f'../../ballot-clustering old versions/2_and_3_clusterings.pkl')"
   ]
  },
  {
   "cell_type": "code",
   "execution_count": 3,
   "metadata": {},
   "outputs": [],
   "source": [
    "df2 = pd.read_pickle(f'../../ballot-clustering old versions/2_and_3_clusterings.pkl')"
   ]
  },
  {
   "cell_type": "code",
   "execution_count": null,
   "metadata": {},
   "outputs": [],
   "source": [
    "# add modularity_all to df (modularity clustering with the ballot graph containing all ballots)\n",
    "for filename in filename_list:\n",
    "    full_filename = f'../scot-elex/7_cands/{filename}'\n",
    "    num_cands, election, cand_names, ward = csv_parse(full_filename)\n",
    "    print(filename)\n",
    "\n",
    "    C = Modularity_cluster(election, num_cands=num_cands, graph = 'all_ballots')\n",
    "    k = len(C)\n",
    "    t = df2.shape[0]\n",
    "    df2.loc[t] = [filename, k, 7, 'modularity_all', None, 'modularity_all', None, None,\n",
    "                   {i:C[i] for i in range(k)}]"
   ]
  },
  {
   "cell_type": "code",
   "execution_count": 5,
   "metadata": {},
   "outputs": [
    {
     "data": {
      "text/plain": [
       "Index(['filename', 'num_clusters', 'num_cands', 'method', 'proxy_type',\n",
       "       'technique', 'centers', 'proxies_of_centers', 'clustering'],\n",
       "      dtype='object')"
      ]
     },
     "execution_count": 5,
     "metadata": {},
     "output_type": "execute_result"
    }
   ],
   "source": [
    "df2.columns"
   ]
  },
  {
   "cell_type": "code",
   "execution_count": 9,
   "metadata": {},
   "outputs": [
    {
     "data": {
      "text/plain": [
       "array(['continuous_BP', 'continuous_rest_BP', 'discrete_BA',\n",
       "       'discrete_BP', 'discrete_HH', 'Lloyd_BP', 'Lloyd_BA', 'Lloyd_HH',\n",
       "       'PAM_BP', 'PAM_BA', 'PAM_HH', 'slate', 'modularity'], dtype=object)"
      ]
     },
     "execution_count": 9,
     "metadata": {},
     "output_type": "execute_result"
    }
   ],
   "source": [
    "df2['technique'].unique()"
   ]
  },
  {
   "cell_type": "code",
   "execution_count": 11,
   "metadata": {},
   "outputs": [],
   "source": [
    "# add column for Silhouette score\n",
    "\n",
    "def compute_scores(C, election, num_cands):\n",
    "    labels = []\n",
    "    XH = []  # first build list of ballot proxies with repititions\n",
    "    for ballot, weight in election.items():\n",
    "        for _ in range(weight):\n",
    "            XH.append(HH_proxy(ballot, num_cands=num_cands))\n",
    "            label = 0 if ballot in C[0].keys() else 1\n",
    "            labels.append(label)\n",
    "    sil = silhouette_score(XH, labels, metric=\"manhattan\")\n",
    "    #cal = calinski_harabasz_score(XH, labels)\n",
    "    #dav = davies_bouldin_score(XH,labels)\n",
    "    return sil  #, cal, dav\n",
    "\n",
    "filename_to_sil_2 = {}\n",
    "filename_to_sil_3 = {}\n",
    "scores = []\n",
    "for index in df2.index:\n",
    "    technique = df2['technique'][index]\n",
    "    if technique != 'Lloyd_HH':\n",
    "        scores.append(None)\n",
    "        continue\n",
    "    filename = df2['filename'][index]\n",
    "    full_filename = f'../scot-elex/7_cands/{filename}'\n",
    "    num_cands, election, cand_names, ward = csv_parse(full_filename)\n",
    "    C = df2['clustering'][index]\n",
    "    k = df2['num_clusters'][index]\n",
    "    sil = compute_scores(C, election, num_cands)\n",
    "    if k==2:\n",
    "        filename_to_sil_2[filename] = sil\n",
    "    else:\n",
    "        filename_to_sil_3[filename] = sil\n",
    "    scores.append(sil)\n",
    "\n",
    "df2['silhouette'] = scores"
   ]
  },
  {
   "cell_type": "code",
   "execution_count": 13,
   "metadata": {},
   "outputs": [],
   "source": [
    "sils = pd.DataFrame(columns = ['filename', 'sil2', 'sil3'])\n",
    "for filename in filename_to_sil_2.keys():\n",
    "    sils.loc[len(sils)] = [filename, filename_to_sil_2[filename], filename_to_sil_3[filename]]"
   ]
  },
  {
   "cell_type": "code",
   "execution_count": 16,
   "metadata": {},
   "outputs": [
    {
     "data": {
      "text/plain": [
       "<seaborn.axisgrid.JointGrid at 0x29e0f6cf650>"
      ]
     },
     "execution_count": 16,
     "metadata": {},
     "output_type": "execute_result"
    },
    {
     "data": {
      "image/png": "[encoded data removed]",
      "text/plain": [
       "<Figure size 600x600 with 3 Axes>"
      ]
     },
     "metadata": {},
     "output_type": "display_data"
    }
   ],
   "source": [
    "sns.jointplot(data=sils, x='sil2', y='sil3')"
   ]
  },
  {
   "cell_type": "code",
   "execution_count": 17,
   "metadata": {},
   "outputs": [
    {
     "name": "stdout",
     "output_type": "stream",
     "text": [
      "['aberdeen_2012_ward9.csv', 'argyll_bute_2012_ward1.csv', 'argyll_bute_2012_ward2.csv', 'argyll_bute_2012_ward9.csv', 'argyll_bute_2017_ward8.csv', 'argyll_bute_2017_ward9.csv', 'eilean_siar_2012_ward5.csv', 'eilean_siar_2022_ward10.csv', 'highland_2012_ward11.csv', 'highland_2012_ward16.csv', 'highland_2012_ward2.csv', 'highland_2012_ward5.csv', 'highland_2012_ward6.csv', 'highland_2017_ward11.csv', 'highland_2022_aird_and_loch_ness.csv', 'highland_2022_inverness_south.csv', 'inverclyde_2012_ward5.csv', 'inverclyde_2017_ward5.csv', 'inverclyde_2022_ward5.csv', 'moray_2017_ward5.csv', 'orkney_2012_ward3.csv', 'orkney_2012_ward5.csv', 'orkney_2017_ward2.csv', 'orkney_2017_ward4.csv', 'sc_borders_2012_ward10.csv', 'shetland_2012_ward2.csv', 'shetland_2012_ward3.csv', 'shetland_2012_ward7.csv', 'shetland_2022_ward6.csv']\n"
     ]
    }
   ],
   "source": [
    "# Calculate the bottom quartile threshold for 'sil2' and 'sil3'\n",
    "sil2_threshold = sils['sil2'].quantile(0.25)\n",
    "sil3_threshold = sils['sil3'].quantile(0.25)\n",
    "\n",
    "# Filter the dataframe to get rows where both 'sil2' and 'sil3' are in their bottom quartile\n",
    "bottom_quartile_sils = sils[(sils['sil2'] <= sil2_threshold) & (sils['sil3'] <= sil3_threshold)]\n",
    "\n",
    "# Create a list of the 'filename' entries\n",
    "bottom_quartile_filenames = bottom_quartile_sils['filename'].tolist()\n",
    "print(bottom_quartile_filenames)"
   ]
  },
  {
   "cell_type": "code",
   "execution_count": 19,
   "metadata": {},
   "outputs": [],
   "source": [
    "not_very_polarized = bottom_quartile_filenames[:20]"
   ]
  },
  {
   "cell_type": "code",
   "execution_count": 27,
   "metadata": {},
   "outputs": [],
   "source": [
    "sil2_threshold = sils['sil2'].quantile(0.75)\n",
    "sil3_threshold = sils['sil3'].quantile(0.5)\n",
    "\n",
    "filtered = sils[(sils['sil2'] >= sil2_threshold) & (sils['sil3'] <= sil3_threshold)]\n",
    "\n",
    "# Create a list of the 'filename' entries\n",
    "good_for_2clustering = filtered['filename'].tolist()\n",
    "len(good_for_2clustering)\n",
    "good_for_2clustering = good_for_2clustering[:20]"
   ]
  },
  {
   "cell_type": "code",
   "execution_count": 28,
   "metadata": {},
   "outputs": [],
   "source": [
    "filtered = sils[(sils['sil2'] <= sils['sil2'].quantile(0.6)) & (sils['sil3'] >= sils['sil3'].quantile(0.75))]\n",
    "\n",
    "# Create a list of the 'filename' entries\n",
    "good_for_3clustering = filtered['filename'].tolist()\n",
    "len(good_for_3clustering)\n",
    "good_for_3clustering = good_for_3clustering[:20]"
   ]
  },
  {
   "cell_type": "code",
   "execution_count": 29,
   "metadata": {},
   "outputs": [
    {
     "name": "stdout",
     "output_type": "stream",
     "text": [
      "['aberdeen_2012_ward9.csv', 'argyll_bute_2012_ward1.csv', 'argyll_bute_2012_ward2.csv', 'argyll_bute_2012_ward9.csv', 'argyll_bute_2017_ward8.csv', 'argyll_bute_2017_ward9.csv', 'eilean_siar_2012_ward5.csv', 'eilean_siar_2022_ward10.csv', 'highland_2012_ward11.csv', 'highland_2012_ward16.csv', 'highland_2012_ward2.csv', 'highland_2012_ward5.csv', 'highland_2012_ward6.csv', 'highland_2017_ward11.csv', 'highland_2022_aird_and_loch_ness.csv', 'highland_2022_inverness_south.csv', 'inverclyde_2012_ward5.csv', 'inverclyde_2017_ward5.csv', 'inverclyde_2022_ward5.csv', 'moray_2017_ward5.csv']\n",
      "['clackmannanshire_2012_ward1.csv', 'clackmannanshire_2022_ward1.csv', 'falkirk_2022_ward8.csv', 'fife_2012_ward16.csv', 'fife_2017_ward17.csv', 'fife_2017_ward19.csv', 'fife_2017_ward8.csv', 'north_ayrshire_2017_ward1.csv', 'north_ayrshire_2017_ward10.csv', 'north_ayrshire_2022_irvine_east.csv', 'north_lanarkshire_2012_ward7.csv', 'perth_kinross_2017_ward2.csv', 'perth_kinross_2017_ward5.csv', 'sc_borders_2017_ward7.csv', 'south_ayrshire_2017_ward5.csv', 'south_lanarkshire_2022_ward15.csv', 'stirling_2017_ward1.csv', 'stirling_2017_ward2.csv', 'west_dunbartonshire_2022_ward6.csv', 'west_lothian_2012_ward4.csv']\n",
      "['aberdeenshire_2017_ward8.csv', 'dumgal_2017_ward6.csv', 'dundee_2017_ward5.csv', 'east_ayrshire_2022_ward3.csv', 'east_lothian_2017_ward5.csv', 'fife_2017_ward4.csv', 'glasgow_2017_ward12.csv', 'glasgow_2017_ward23.csv', 'midlothian_2012_ward5.csv', 'midlothian_2017_ward2.csv', 'north_ayrshire_2017_ward9.csv', 'north_lanarkshire_2017_ward17.csv', 'north_lanarkshire_2017_ward6.csv', 'renfrewshire_2012_ward3.csv', 'renfrewshire_2017_ward10.csv', 'renfrewshire_2022_ward7.csv', 'south_ayrshire_2012_ward4.csv', 'south_lanarkshire_2022_ward10.csv', 'south_lanarkshire_2022_ward5.csv', 'west_dunbartonshire_2017_ward1.csv']\n"
     ]
    }
   ],
   "source": [
    "print(not_very_polarized)\n",
    "print(good_for_2clustering)\n",
    "print(good_for_3clustering)"
   ]
  },
  {
   "cell_type": "code",
   "execution_count": 40,
   "metadata": {},
   "outputs": [
    {
     "data": {
      "text/plain": [
       "(1038, 0, 32)"
      ]
     },
     "execution_count": 40,
     "metadata": {},
     "output_type": "execute_result"
    }
   ],
   "source": [
    "# number of elections in which the Lloyd_BP and Lloyd_HH centers (agree, disagree, have inconsistent HH centers)\n",
    "good_count, bad_count, inconsistent_count"
   ]
  },
  {
   "cell_type": "markdown",
   "metadata": {},
   "source": [
    "32/1038"
   ]
  },
  {
   "cell_type": "code",
   "execution_count": 63,
   "metadata": {},
   "outputs": [],
   "source": [
    "def same_gen_ballots(b1,b2):\n",
    "    \"\"\"\n",
    "    Returns True if the two generalized ballots are the same, False otherwise.\n",
    "    \"\"\"\n",
    "    b1 = list(b1)\n",
    "    b2 = list(b2)\n",
    "    if len(b1) != len(b2):\n",
    "        return False\n",
    "    for i in range(len(b1)):\n",
    "        S1 = b1[i] if type(b1[i]) == set else {b1[i]}\n",
    "        S2 = b2[i] if type(b2[i]) == set else {b2[i]}\n",
    "        if S1 != S2:\n",
    "            return False\n",
    "    return True"
   ]
  },
  {
   "cell_type": "code",
   "execution_count": 67,
   "metadata": {},
   "outputs": [],
   "source": [
    "# Re-do the above calculation for the clustering that places all ballots into a single cluster.\n",
    "# That is, determine the portion of elections for which the Lloyd_BP and Lloyd_HH centers of the WHOLE ELECTION\n",
    "# (agree, disagree, have inconsisetent HH centers)\n",
    "\n",
    "# We also count up the times that the Lloyd_BP and Lloyd_HH centers include ties.\n",
    "\n",
    "good_count = 0\n",
    "bad_count = 0\n",
    "inconsistent_count = 0\n",
    "\n",
    "BP_ties = 0\n",
    "HH_ties = 0\n",
    "\n",
    "full_filename_list = glob.glob(\"scot-elex/**/*.csv\")\n",
    "for full_filename in full_filename_list:\n",
    "    filename = os.path.basename(full_filename)\n",
    "    num_cands, election, cand_names, location = csv_parse(full_filename)\n",
    "    BP_center_proxy, _ = Centroid_and_Medoid(election, num_cands, proxy = 'Borda', borda_style='pes', metric = 'Euclidean')\n",
    "    HH_center_proxy, _ = Centroid_and_Medoid(election, num_cands, proxy = 'HH', metric = 'Euclidean')\n",
    "    BP_center = Reverse_Borda(BP_center_proxy)\n",
    "    HH_center = Reverse_HH(HH_center_proxy)\n",
    "    #print(full_filename)\n",
    "    if HH_center == None:\n",
    "        inconsistent_count += 1\n",
    "    elif same_gen_ballots(BP_center, HH_center):\n",
    "        good_count += 1\n",
    "    else:\n",
    "        bad_count += 1\n",
    "    if type(BP_center[0])==set:\n",
    "        BP_ties += 1\n",
    "    if HH_center != None and type(HH_center[0])==set:\n",
    "        HH_ties += 1"
   ]
  },
  {
   "cell_type": "code",
   "execution_count": 68,
   "metadata": {},
   "outputs": [
    {
     "data": {
      "text/plain": [
       "(540, 487, 43)"
      ]
     },
     "execution_count": 68,
     "metadata": {},
     "output_type": "execute_result"
    }
   ],
   "source": [
    "good_count, bad_count, inconsistent_count"
   ]
  },
  {
   "cell_type": "code",
   "execution_count": 69,
   "metadata": {},
   "outputs": [
    {
     "data": {
      "text/plain": [
       "(0, 2)"
      ]
     },
     "execution_count": 69,
     "metadata": {},
     "output_type": "execute_result"
    }
   ],
   "source": [
    "BP_ties, HH_ties"
   ]
  },
  {
   "cell_type": "code",
   "execution_count": 38,
   "metadata": {},
   "outputs": [],
   "source": [
    "v1 = [ 1.,  1.,  1.,  1.,  1.,  1.,  0.,  0.,  0., -1.,  0.,  0.,  0., -1.,  0.,  0., -1.,  0., -1.,  0.,  1.]\n",
    "v2 =  [ 0., -1., -1., -1.,  0., -1., -1.,  0., -1.,  0., -1.,  1.,  1.,\n",
    "         1.,  1., -1.,  1.,  0.,  1.,  1., -1.]"
   ]
  },
  {
   "cell_type": "code",
   "execution_count": 39,
   "metadata": {},
   "outputs": [
    {
     "data": {
      "text/plain": [
       "((1, 6), None)"
      ]
     },
     "execution_count": 39,
     "metadata": {},
     "output_type": "execute_result"
    }
   ],
   "source": [
    "Reverse_HH(v1), Reverse_HH(v2)"
   ]
  },
  {
   "cell_type": "code",
   "execution_count": 41,
   "metadata": {},
   "outputs": [
    {
     "name": "stdout",
     "output_type": "stream",
     "text": [
      "[0.0, -1.0, -1.0, -1.0, 0.0, -1.0, -1.0, 0.0, -1.0, 0.0, -1.0, 1.0, 1.0, 1.0, 1.0, -1.0, 1.0, 0.0, 1.0, 1.0, -1.0]\n"
     ]
    }
   ],
   "source": [
    "print(v2)"
   ]
  },
  {
   "cell_type": "code",
   "execution_count": 7,
   "metadata": {},
   "outputs": [],
   "source": [
    "# study Pentland Hills centers\n",
    "filepath = '..'\n",
    "df = pd.read_pickle(f'{filepath}/results.pkl')"
   ]
  },
  {
   "cell_type": "code",
   "execution_count": 8,
   "metadata": {},
   "outputs": [],
   "source": [
    "filename = 'edinburgh_2017_ward2.csv'\n",
    "dfPH = df[df['filename'] == filename].copy()"
   ]
  },
  {
   "cell_type": "code",
   "execution_count": 10,
   "metadata": {},
   "outputs": [
    {
     "data": {
      "text/plain": [
       "16"
      ]
     },
     "execution_count": 10,
     "metadata": {},
     "output_type": "execute_result"
    }
   ],
   "source": [
    "len(dfPH)"
   ]
  },
  {
   "cell_type": "code",
   "execution_count": 11,
   "metadata": {},
   "outputs": [
    {
     "name": "stdout",
     "output_type": "stream",
     "text": [
      "continuous_BA: (1, 6), (3, 5, 7, 2)\n",
      "continuous_BP: (1,), (3, 5, 7)\n",
      "continuous_HH: (1, 6), (3, 5)\n",
      "discrete_BA: (1, 6), (3, 5, 7)\n",
      "discrete_BP: (1, 6), (3, 5, 7, 4)\n",
      "discrete_HH: (1, 6), (3, 5, 4)\n",
      "Lloyd_BP: (1, 6, 4, 2, 7, 3), (3, 5, 4, 7, 2, 1)\n",
      "Lloyd_BA: (3, 5, 4, 7, 2, 1), (1, 6, 4, 2, 7, 3)\n",
      "Lloyd_HH: (3, 5, 4, 7, 2, 1, 6), (1, 6, 4, 2, 7, 3, 5)\n",
      "PAM_BP: (3, 5, 7, 4), (1, 6)\n",
      "PAM_BA: (3, 5, 7), (1, 6)\n",
      "PAM_HH: (1, 6), (3, 5, 4)\n",
      "slate: (1, 6), (2, 3, 4, 5, 7)\n"
     ]
    }
   ],
   "source": [
    "# print Pentland Hills centers\n",
    "center_dict = {}\n",
    "for index in dfPH.index:\n",
    "    technique = dfPH['technique'][index]\n",
    "    method = dfPH['method'][index]\n",
    "    proxy_type = dfPH['proxy'][index]\n",
    "    if method == 'continuous_rest':\n",
    "        continue\n",
    "    centers = dfPH['centers'][index]\n",
    "    if method == 'continuous':\n",
    "        center_dict[proxy_type] = centers\n",
    "\n",
    "    print(f\"{technique}: {centers[0]}, {centers[1]}\")"
   ]
  },
  {
   "cell_type": "code",
   "execution_count": 12,
   "metadata": {},
   "outputs": [
    {
     "name": "stdout",
     "output_type": "stream",
     "text": [
      "continuous_BA: (5.0, 2.0, 2.0, 2.5, 2.0, 5.0, 2.0), (1.5, 2.0, 6.0, 2.0, 5.0, 1.5, 3.0)\n",
      "continuous_BP: (5.0, 0.0, 0.0, 0.0, 0.0, 5.0, 0.0), (0.0, 0.0, 5.0, 2.0, 5.0, 0.0, 4.0)\n",
      "continuous_HH: (1.0, 1.0, 1.0, 1.0, 1.0, 1.0, 0.0, 0.0, 0.0, -1.0, 0.0, 0.0, 0.0, -1.0, 0.0, 0.0, -1.0, 0.0, -1.0, 0.0, 1.0), (0.0, -1.0, -1.0, -1.0, 0.0, -1.0, -1.0, 0.0, -1.0, 0.0, -1.0, 1.0, 1.0, 1.0, 1.0, -1.0, 1.0, 0.0, 1.0, 1.0, -1.0)\n",
      "continuous_rest_BA: (6.0, 2.5, 2.5, 2.5, 2.5, 2.5, 2.5), (2.5, 2.5, 6.0, 2.5, 2.5, 2.5, 2.5)\n",
      "continuous_rest_BP: (6.0, 0.0, 0.0, 0.0, 0.0, 5.0, 0.0), (0.0, 0.0, 6.0, 3.0, 5.0, 0.0, 4.0)\n",
      "continuous_rest_HH: (1.0, 1.0, 1.0, 1.0, 1.0, 1.0, 1.0, -1.0, 1.0, -1.0, 1.0, -1.0, 1.0, -1.0, -1.0, 1.0, -1.0, 1.0, -1.0, -1.0, 1.0), (-1.0, -1.0, -1.0, -1.0, -1.0, -1.0, -1.0, -1.0, -1.0, 1.0, -1.0, 1.0, 1.0, 1.0, 1.0, -1.0, 1.0, -1.0, 1.0, 1.0, -1.0)\n",
      "discrete_BA: (6.0, 2.0, 2.0, 2.0, 2.0, 5.0, 2.0), (1.5, 1.5, 6.0, 1.5, 5.0, 1.5, 4.0)\n",
      "discrete_BP: (6, 0, 0, 0, 0, 5, 0), (0, 0, 6, 3, 5, 0, 4)\n",
      "discrete_HH: (1.0, 1.0, 1.0, 1.0, 1.0, 1.0, 0.0, 0.0, 0.0, -1.0, 0.0, 0.0, 0.0, -1.0, 0.0, 0.0, -1.0, 0.0, -1.0, 0.0, 1.0), (0.0, -1.0, -1.0, -1.0, 0.0, 0.0, -1.0, -1.0, -1.0, 0.0, 0.0, 1.0, 1.0, 1.0, 1.0, -1.0, 1.0, 1.0, 1.0, 1.0, 0.0)\n"
     ]
    }
   ],
   "source": [
    "# print proxies of centers\n",
    "proxy_dict = {}\n",
    "for index in dfPH.index:\n",
    "    technique = dfPH['technique'][index]\n",
    "    method = dfPH['method'][index]\n",
    "    proxy_type = dfPH['proxy'][index]\n",
    "    centers = dfPH['centers'][index]\n",
    "    proxies = dfPH['proxies_of_centers'][index]\n",
    "    proxy = dfPH['proxy'][index]\n",
    "    method = dfPH['method'][index]\n",
    "    if method == 'continuous':\n",
    "        proxy_dict[proxy_type] = proxies \n",
    "    if method in ['Lloyd', 'slate'] or proxies == None:\n",
    "        continue\n",
    "    print(f\"{technique}: {proxies[0]}, {proxies[1]}\")"
   ]
  },
  {
   "cell_type": "code",
   "execution_count": 26,
   "metadata": {},
   "outputs": [
    {
     "name": "stdout",
     "output_type": "stream",
     "text": [
      "(5.0, 2.0, 2.0, 2.5, 2.0, 5.0, 2.0)\n",
      "({1, 6}, {4}, {2, 3, 5, 7})\n",
      "[5.5 1.5 1.5 4.  1.5 5.5 1.5]\n"
     ]
    }
   ],
   "source": [
    "v0 = proxy_dict['BA'][0]\n",
    "print(v0)\n",
    "b0 = Reverse_Borda(v0)\n",
    "print(b0)\n",
    "v0_ = Borda_vector(b0,num_cands= 7, borda_style= 'avg')\n",
    "print(v0_)"
   ]
  },
  {
   "cell_type": "code",
   "execution_count": 28,
   "metadata": {},
   "outputs": [
    {
     "name": "stdout",
     "output_type": "stream",
     "text": [
      "(1.5, 2.0, 6.0, 2.0, 5.0, 1.5, 3.0)\n",
      "({3}, {5}, {7}, {2, 4}, {1, 6})\n",
      "[0.5 2.5 6.  2.5 5.  0.5 4. ]\n"
     ]
    }
   ],
   "source": [
    "v1 = proxy_dict['BA'][1]\n",
    "print(v1)\n",
    "b1 = Reverse_Borda(v1)\n",
    "print(b1)\n",
    "v1_ = Borda_vector(b1,num_cands= 7, borda_style= 'avg')\n",
    "print(v1_)"
   ]
  },
  {
   "cell_type": "code",
   "execution_count": 29,
   "metadata": {},
   "outputs": [
    {
     "name": "stdout",
     "output_type": "stream",
     "text": [
      "(5.0, 0.0, 0.0, 0.0, 0.0, 5.0, 0.0)\n",
      "({1, 6}, {2, 3, 4, 5, 7})\n",
      "[5 0 0 0 0 5 0]\n"
     ]
    }
   ],
   "source": [
    "v0 = proxy_dict['BP'][0]\n",
    "print(v0)\n",
    "b0 = Reverse_Borda(v0)\n",
    "print(b0)\n",
    "v0_ = Borda_vector(b0,num_cands= 7, borda_style= 'pes')\n",
    "print(v0_)"
   ]
  },
  {
   "cell_type": "code",
   "execution_count": 30,
   "metadata": {},
   "outputs": [
    {
     "name": "stdout",
     "output_type": "stream",
     "text": [
      "(0.0, 0.0, 5.0, 2.0, 5.0, 0.0, 4.0)\n",
      "({3, 5}, {7}, {4}, {1, 2, 6})\n",
      "[0 0 5 3 5 0 4]\n"
     ]
    }
   ],
   "source": [
    "v1 = proxy_dict['BP'][1]\n",
    "print(v1)\n",
    "b1 = Reverse_Borda(v1)\n",
    "print(b1)\n",
    "v1_ = Borda_vector(b1,num_cands= 7, borda_style= 'pes')\n",
    "print(v1_)"
   ]
  },
  {
   "cell_type": "code",
   "execution_count": null,
   "metadata": {},
   "outputs": [],
   "source": []
  }
 ],
 "metadata": {
  "kernelspec": {
   "display_name": "Python 3",
   "language": "python",
   "name": "python3"
  },
  "language_info": {
   "codemirror_mode": {
    "name": "ipython",
    "version": 3
   },
   "file_extension": ".py",
   "mimetype": "text/x-python",
   "name": "python",
   "nbconvert_exporter": "python",
   "pygments_lexer": "ipython3",
   "version": "3.11.8"
  }
 },
 "nbformat": 4,
 "nbformat_minor": 2
}
