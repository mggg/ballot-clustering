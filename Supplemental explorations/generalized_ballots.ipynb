{
 "cells": [
  {
   "cell_type": "code",
   "execution_count": 1,
   "metadata": {},
   "outputs": [],
   "source": [
    "import numpy as np \n",
    "import matplotlib.pyplot as plt\n",
    "import pandas as pd\n",
    "import seaborn as sns\n",
    "from sklearn.manifold import MDS \n",
    "import glob\n",
    "import math\n",
    "import re\n",
    "from Clustering_Functions import *\n",
    "from itertools import combinations\n",
    "import itertools\n",
    "import os\n",
    "\n",
    "import warnings\n",
    "\n",
    "warnings.filterwarnings(\"ignore\", category=DeprecationWarning)"
   ]
  },
  {
   "cell_type": "code",
   "execution_count": 2,
   "metadata": {},
   "outputs": [],
   "source": [
    "def Borda_vector(ballot, num_cands , borda_style='pes', start = 0):\n",
    "    \"\"\"\n",
    "    Returns the Borda vector of the given (simple or generalized) ballot.\n",
    "        \n",
    "    Args:\n",
    "        ballot : a simple or generalized ballot (tuple of integers or of sets of integers). \n",
    "        num_cands : the number of candidates. \n",
    "        borda_style : choice of {'pes', 'avg'}\n",
    "        start : the lowest score awarded; for example, set start=1 if you want a full ballot to award {1,2,...,num_cands} points.\n",
    "     \n",
    "    Returns:\n",
    "        the Borda vector (np.array) of the given generalized ballot.                \n",
    "    \"\"\"\n",
    "\n",
    "    # append set of missing candidates to end of ballot\n",
    "    ballot = list(ballot)\n",
    "    missing_cands = set(range(1,num_cands+1))\n",
    "    for c in ballot:\n",
    "        S = c if type(c) == set else {c}\n",
    "        for x in S:\n",
    "            missing_cands.discard(x)\n",
    "    if len(missing_cands) > 0:\n",
    "        ballot.append(missing_cands)\n",
    "    # compute Borda vector\n",
    "    score_queue = list(range(start, start+num_cands))\n",
    "    to_return = [0 for _ in range(num_cands)]\n",
    "    for c in ballot:\n",
    "        S = c if type(c) == set else {c}\n",
    "        scores = [score_queue.pop() for _ in range(len(S))]\n",
    "        points = np.mean(scores) if borda_style == 'avg' else min(scores)\n",
    "        for x in S:\n",
    "            to_return[x-1] = points\n",
    "\n",
    "    return np.array(to_return)"
   ]
  },
  {
   "cell_type": "code",
   "execution_count": 3,
   "metadata": {},
   "outputs": [],
   "source": [
    "def Reverse_Borda(proxy):\n",
    "    \"\"\" \n",
    "    Returns the generalized ballot corresponding to the given Borda proxy vector.\n",
    "    Returns a simple ballot if possible, otherwise a generalized ballot\n",
    "    Works with any borda_style convention ('pes' or 'avg') \n",
    "    \"\"\"\n",
    "    num_cands = len(proxy)\n",
    "\n",
    "    proxy = list(proxy)\n",
    "    to_return = []\n",
    "    cands_placed = []\n",
    "    while len(cands_placed) < num_cands:\n",
    "        S = [x for x in range(1,num_cands+1) if proxy[x-1]==np.max(proxy)] # best-scoring candidates\n",
    "        cands_placed.extend(S)\n",
    "        to_return.append(set(S))\n",
    "        for x in S:\n",
    "            proxy[x-1] = -1\n",
    "\n",
    "    # return a simple ballot if possible\n",
    "    if all(len(c)==1 for c in to_return[:-1]):\n",
    "        return tuple([list(c)[0] for c in to_return if len(c)==1])\n",
    "    else:\n",
    "        return tuple(to_return)"
   ]
  },
  {
   "cell_type": "code",
   "execution_count": 4,
   "metadata": {},
   "outputs": [],
   "source": [
    "def HH_proxy(ballot,num_cands):\n",
    "    \"\"\"\n",
    "    Returns the head-to-head proxy vector of the given (simple or generalized) ballot.\n",
    "        \n",
    "    This is a vector with one entry for each pair of candidates ordered in the natural way; namely {(1,2),(1,3),...,(1,n),(2,3),...}. \n",
    "    The entries lie in {-1,0,1} depending on whether the lower-indexed candidate {looses, ties, wins} the head-to-head comparison. \n",
    "\n",
    "    Args:\n",
    "        ballot: a simple or generalized ballot (tuple of integers or of sets of integers).\n",
    "    \n",
    "    Returns:\n",
    "        The head-to-head proxy vector (np.array)\n",
    "    \"\"\"\n",
    "    # append set of missing candidates to end of ballot\n",
    "    ballot = list(ballot)\n",
    "    missing_cands = set(range(1,num_cands+1))\n",
    "    for c in ballot:\n",
    "        S = c if type(c) == set else {c}\n",
    "        for x in S:\n",
    "            missing_cands.discard(x)\n",
    "    if len(missing_cands) > 0:\n",
    "        ballot.append(missing_cands)\n",
    "\n",
    "    M = np.full([num_cands,num_cands], np.nan)\n",
    "\n",
    "    # first place the zeros for ties and build the unpacked ballot\n",
    "    unpacked_ballot = []\n",
    "    for c in ballot:\n",
    "        S = c if type(c) == set else {c}\n",
    "        if len(S)>1:\n",
    "            for x,y in combinations(S,2):\n",
    "                M[x-1,y-1] = 0\n",
    "                M[y-1,x-1] = 0\n",
    "        unpacked_ballot.extend(S)\n",
    "\n",
    "    # now place the -1 and 1 entries\n",
    "    for x,y in combinations(unpacked_ballot,2):\n",
    "        if M[x-1,y-1] != 0:\n",
    "            M[x-1,y-1] = 1\n",
    "            M[y-1,x-1] = -1\n",
    "\n",
    "    # flatten the matrix into a vector\n",
    "    to_return = []\n",
    "    for x,y in combinations(range(num_cands),2):\n",
    "        to_return.append(M[x,y])\n",
    "    return np.array(to_return)"
   ]
  },
  {
   "cell_type": "code",
   "execution_count": 5,
   "metadata": {},
   "outputs": [],
   "source": [
    "def Reverse_HH(proxy):\n",
    "    \"\"\" \n",
    "    Returns the (simple or generalized) ballot corresponding to the given HH proxy vector,\n",
    "    or None if the proxy is inconsistent.\n",
    "    Any positive entry (not just +1) is interpreted as a win for the lower-indexed candidate, and any negative entry a loss,\n",
    "    while a zero entry indicates a tie.\n",
    "    Returns a simple ballot if possible, otherwise a generalized ballot.\n",
    "    \"\"\"\n",
    "    # determine the number of candidates\n",
    "    proxy = list(proxy)\n",
    "    A = np.sqrt(1+8*len(proxy))\n",
    "    if not A.is_integer():\n",
    "        raise ValueError(\"Invalid proxy vector\")\n",
    "    num_cands = int((1+A)/2)\n",
    "    \n",
    "    cand_pairs = list(combinations(range(1,num_cands+1),2))\n",
    "    ballot = [{num_cands}] # initialize ballot: bullet vote for last candidate\n",
    "\n",
    "    # We'll work through cand_pairs (i,j) in reverse order.  \n",
    "    # For 5 candidates, the order is (4,5) | (3,5), (3,4) | (2,5), (2,4), (2,3) | (1,5), (1,4), (1,3), (1,2)\n",
    "    # which breaks into groups for i = 4,3,2,1\n",
    "    # for each group, we add i to the top of the ballot, and then use the rest of the group's information to reposition i correctly\n",
    "    # (or return None if the rest of the group has inconsisent information).\n",
    "    for i in range(num_cands-1,0,-1):\n",
    "        group_indices = [x for x in range(len(cand_pairs)) if cand_pairs[x][0]==i]\n",
    "        left_of_i = [cand_pairs[x][1] for x in group_indices if proxy[x]<0]\n",
    "        right_of_i = [cand_pairs[x][1] for x in group_indices if proxy[x]>0]\n",
    "        match_i = [cand_pairs[x][1] for x in group_indices if proxy[x] == 0]\n",
    "        ballot_map = [] # has one entry {-1,0,+1} for each set in the ballot, indicating whether the set should be left, right, or containing i.\n",
    "        for c in ballot:\n",
    "            S = c if type(c) == set else {c}\n",
    "            if all(x in left_of_i for x in S):\n",
    "                ballot_map.append(-1)\n",
    "            elif all(x in right_of_i for x in S):\n",
    "                ballot_map.append(1)\n",
    "            elif all(x in match_i for x in S):\n",
    "                ballot_map.append(0)\n",
    "            else:\n",
    "                return None # inconsistent proxy\n",
    "            \n",
    "        zero_indices = [x for x in range(len(ballot_map)) if ballot_map[x]==0]\n",
    "        if (ballot_map != sorted(ballot_map)) or (len(zero_indices)>1):\n",
    "            return None # inconsistent proxy\n",
    "        \n",
    "        if len(zero_indices)==0:\n",
    "            insertion_index = len(ballot_map) if all(val <= 0 for val in ballot_map) else min([x for x in range(len(ballot_map)) if ballot_map[x] >=0])\n",
    "            ballot.insert(insertion_index,{i})\n",
    "            #print(f'inserting {i} at {insertion_index} to get {ballot}')    \n",
    "        else:\n",
    "            insertion_index = zero_indices[0]\n",
    "            ballot[insertion_index] = ballot[insertion_index].union({i})\n",
    "            #print(f'adding {i} to {insertion_index} to get {ballot}')\n",
    "    # return a simple ballot if possible\n",
    "    if all(len(c)==1 for c in ballot[:-1]):\n",
    "        return tuple([list(c)[0] for c in ballot if len(c)==1])\n",
    "    else:\n",
    "        return tuple(ballot)"
   ]
  },
  {
   "cell_type": "code",
   "execution_count": 6,
   "metadata": {},
   "outputs": [
    {
     "name": "stdout",
     "output_type": "stream",
     "text": [
      "({4}, {2, 3}, {1}, {5, 6, 7}, {8, 9, 10})\n",
      "({4}, {2, 3}, {1}, {5, 6, 7}, {8, 9, 10})\n"
     ]
    }
   ],
   "source": [
    "b = (4, {2,3}, 1, {5,6,7})\n",
    "p = HH_proxy(b,10)\n",
    "print(Reverse_HH(HH_proxy(b,10)))\n",
    "print(Reverse_Borda(Borda_vector(b,10)))"
   ]
  },
  {
   "cell_type": "code",
   "execution_count": 7,
   "metadata": {},
   "outputs": [
    {
     "name": "stdout",
     "output_type": "stream",
     "text": [
      "(4, 6, 3)\n",
      "(4, 6, 3)\n"
     ]
    }
   ],
   "source": [
    "b = (4, 6, 3)\n",
    "p = HH_proxy(b,10)\n",
    "print(Reverse_HH(HH_proxy(b,10)))\n",
    "print(Reverse_Borda(Borda_vector(b,10)))"
   ]
  },
  {
   "cell_type": "code",
   "execution_count": 9,
   "metadata": {},
   "outputs": [],
   "source": [
    "filepath = '../ballot-clustering old versions'\n",
    "dfK = pd.read_pickle(f'{filepath}/results_2025.pkl') # heuristic results\n",
    "dfIP = pd.read_pickle(f'{filepath}/IP_results_v2.pkl') # IP results"
   ]
  },
  {
   "cell_type": "code",
   "execution_count": 10,
   "metadata": {},
   "outputs": [],
   "source": [
    "# create `df` dataframe to hold IP and heuristic results.\n",
    "d_proxy = {'bordaa': 'BA', 'bordap': 'BP', 'hh': 'HH'}\n",
    "df = pd.DataFrame(columns=['filename', 'num_cands', 'method', 'proxy_type', 'technique', \n",
    "                           'centers', 'proxies_of_centers', 'center_proxy_match_good','clustering'])\n",
    "\n",
    "# Add the IP results to the dataframe\n",
    "\n",
    "for index in dfIP.index:\n",
    "    filename = f\"{dfIP['election'][index]}.csv\" \n",
    "    num_cands = dfIP['num_candidates'][index]\n",
    "        \n",
    "    proxies_of_centers = dfIP['centroids'][index]\n",
    "    clustering = dfIP['ballots'][index]\n",
    "    method = dfIP['method'][index]\n",
    "    proxy_type = d_proxy[dfIP['proxy'][index]]\n",
    "    technique = f\"{method}_{proxy_type}\"\n",
    "\n",
    "    if proxy_type == 'HH':\n",
    "        centers = {i: Reverse_HH(proxy) for i, proxy in proxies_of_centers.items()}\n",
    "        center_proxy_match = all(centers[i] is not None for i in centers)\n",
    "    else:\n",
    "        centers = {i: Reverse_Borda(proxy) for i, proxy in proxies_of_centers.items()}\n",
    "        borda_style = 'pes' if proxy_type == 'BP' else 'avg'\n",
    "        center_proxy_match = all(all(Borda_vector(centers[i],num_cands, borda_style) == np.array(proxy)) for i, proxy in proxies_of_centers.items())\n",
    "\n",
    "    t = df.shape[0]\n",
    "    df.loc[t] = [filename, num_cands, method, proxy_type, technique,\n",
    "                  centers, proxies_of_centers, center_proxy_match, clustering]"
   ]
  },
  {
   "cell_type": "code",
   "execution_count": 11,
   "metadata": {},
   "outputs": [],
   "source": [
    "# add the heuristic results to the dataframe\n",
    "\n",
    "D = {'meanBA': ('Lloyd', 'BA'), 'meanBC': ('Lloyd', 'BP'), 'meanH': ('Lloyd', 'HH'), \n",
    "     'medoBA': ('PAM', 'BA'), 'medoBC': ('PAM', 'BP'), 'medoH': ('PAM', 'HH'), 'slate': ('slate', None)}\n",
    "\n",
    "for index in dfK.index:\n",
    "    filename = dfK['filename'][index] \n",
    "    num_cands = dfK['num_cands'][index]\n",
    "    clustering = dfK['clustering'][index]\n",
    "    m = dfK['method'][index]\n",
    "    if m == 'slate_weak':\n",
    "        continue\n",
    "    method, proxy_type = D[m]\n",
    "\n",
    "    technique = method if method == 'slate' else f\"{method}_{proxy_type}\"\n",
    "\n",
    "    if method == 'Lloyd':\n",
    "        proxies_of_centers_as_array = dfK['centers'][index]\n",
    "        proxies_of_centers = {0: proxies_of_centers_as_array[0], 1: proxies_of_centers_as_array[1]}\n",
    "        if proxy_type == 'HH':\n",
    "            centers = {i: Reverse_HH(proxy) for i, proxy in proxies_of_centers.items()}\n",
    "            center_proxy_match = all(centers[i] is not None for i in centers)\n",
    "        else:\n",
    "            centers = {i: Reverse_Borda(proxy) for i, proxy in proxies_of_centers.items()}\n",
    "            borda_style = 'pes' if proxy_type == 'BP' else 'avg'\n",
    "            center_proxy_match = all(all(Borda_vector(centers[i],num_cands, borda_style) == np.array(proxy)) for i, proxy in proxies_of_centers.items())\n",
    "    elif method == 'PAM':\n",
    "        centers = dfK['centers'][index]\n",
    "        if proxy_type == 'HH':\n",
    "            proxies_of_centers = {i: HH_proxy(centers[i], num_cands) for i, center in centers.items()}\n",
    "            center_proxy_match = True\n",
    "        else:\n",
    "            borda_style = 'pes' if proxy_type == 'BP' else 'avg'\n",
    "            proxies_of_centers = {i: Borda_vector(center,num_cands, borda_style) for i, center in centers.items()}\n",
    "            center_proxy_match = True\n",
    "    else:\n",
    "        centers = dfK['centers'][index]\n",
    "        proxies_of_centers = None\n",
    "        center_proxy_match = None\n",
    "    t = df.shape[0]\n",
    "    df.loc[t] = [filename, num_cands, method, proxy_type, technique, centers, proxies_of_centers, center_proxy_match, clustering]"
   ]
  },
  {
   "cell_type": "code",
   "execution_count": 12,
   "metadata": {},
   "outputs": [],
   "source": [
    "df.to_pickle(f'{filepath}/merged_data_with_generalized_ballots.pkl')"
   ]
  },
  {
   "cell_type": "code",
   "execution_count": 13,
   "metadata": {},
   "outputs": [
    {
     "name": "stdout",
     "output_type": "stream",
     "text": [
      "center_proxy_match_good     False     True \n",
      "technique                                  \n",
      "Lloyd_BA                 1.000000  0.000000\n",
      "Lloyd_BP                 1.000000  0.000000\n",
      "Lloyd_HH                 0.029907  0.970093\n",
      "PAM_BA                   0.000000  1.000000\n",
      "PAM_BP                   0.000000  1.000000\n",
      "PAM_HH                   0.000000  1.000000\n",
      "continuous_BA            0.944513  0.055487\n",
      "continuous_BP            0.504692  0.495308\n",
      "continuous_HH            0.336416  0.663584\n",
      "continuous_rest_BA       0.000000  1.000000\n",
      "continuous_rest_BP       0.000000  1.000000\n",
      "continuous_rest_HH       0.000000  1.000000\n",
      "discrete_BA              0.000000  1.000000\n",
      "discrete_BP              0.000000  1.000000\n",
      "discrete_HH              0.000000  1.000000\n"
     ]
    }
   ],
   "source": [
    "# Group by 'technique' and 'center_proxy_match_good' and calculate the size of each group\n",
    "grouped = df.groupby(['technique', 'center_proxy_match_good']).size().unstack(fill_value=0)\n",
    "\n",
    "# Calculate the portion for each value of 'center_proxy_match_good' within each 'technique'\n",
    "portion = grouped.div(grouped.sum(axis=1), axis=0)\n",
    "\n",
    "print(portion)"
   ]
  },
  {
   "cell_type": "code",
   "execution_count": 41,
   "metadata": {},
   "outputs": [],
   "source": [
    "# The Pentland Hills election that's studied in the paper\n",
    "full_filename = 'scot-elex/7_cands/edinburgh_2017_ward2.csv'\n",
    "filename = os.path.basename(full_filename)\n",
    "num_cands, election, cand_names, ward = csv_parse(full_filename)\n",
    "parties = party_abrevs(cand_names)\n",
    "dfPH = df[df['filename'] == filename].copy()"
   ]
  },
  {
   "cell_type": "code",
   "execution_count": 34,
   "metadata": {},
   "outputs": [
    {
     "name": "stdout",
     "output_type": "stream",
     "text": [
      "continuous_BA(False): ({1, 6}, {4}, {2, 3, 5, 7}), ({3}, {5}, {7}, {2, 4}, {1, 6})\n",
      "continuous_BP(False): ({1, 6}, {2, 3, 4, 5, 7}), ({3, 5}, {7}, {4}, {1, 2, 6})\n",
      "continuous_HH(False): (1, 6), None\n",
      "continuous_rest_BA(True): (1,), (3,)\n",
      "continuous_rest_BP(True): (1, 6), (3, 5, 7, 4)\n",
      "continuous_rest_HH(True): (1, 6, 4, 2, 7, 3, 5), (3, 5, 7, 4, 2, 6, 1)\n",
      "Lloyd_BP(False): (1, 6, 4, 2, 7, 3, 5), (3, 5, 4, 7, 2, 1, 6)\n",
      "Lloyd_BA(False): (3, 5, 4, 7, 2, 1, 6), (1, 6, 4, 2, 7, 3, 5)\n",
      "Lloyd_HH(True): (3, 5, 4, 7, 2, 1, 6), (1, 6, 4, 2, 7, 3, 5)\n",
      "PAM_BP(True): (3, 5, 7, 4), (1, 6)\n",
      "PAM_BA(True): (3, 5, 7), (1, 6)\n",
      "PAM_HH(True): (1, 6), (3, 5, 4)\n"
     ]
    }
   ],
   "source": [
    "# print Pentland Hills centers\n",
    "PH_technique_to_centers = {technique:None for technique in dfPH['technique'].unique()}\n",
    "for index in dfPH.index:\n",
    "    technique = dfPH['technique'][index]\n",
    "    centers = dfPH['centers'][index]\n",
    "    method = dfPH['method'][index]\n",
    "    match = dfPH['center_proxy_match_good'][index]\n",
    "    if centers == None:\n",
    "        centers = {0: None, 1: None}\n",
    "    PH_technique_to_centers[technique] = centers\n",
    "    if not method in ['slate', 'discrete']:\n",
    "        print(f\"{technique}({match}): {centers[0]}, {centers[1]}\")"
   ]
  },
  {
   "cell_type": "code",
   "execution_count": 45,
   "metadata": {},
   "outputs": [],
   "source": [
    "# find the HH and BP centers of the WHOLE ELECTION\n",
    "BP_center_proxy, _ = Centroid_and_Medoid(election, num_cands, proxy = 'Borda', borda_style='pes', metric = 'Euclidean')\n",
    "HH_center_proxy, _ = Centroid_and_Medoid(election, num_cands, proxy = 'HH', metric = 'Euclidean')\n",
    "BP_center = Reverse_Borda(BP_center_proxy)\n",
    "HH_center = Reverse_HH(HH_center_proxy)"
   ]
  },
  {
   "cell_type": "code",
   "execution_count": 46,
   "metadata": {},
   "outputs": [
    {
     "name": "stdout",
     "output_type": "stream",
     "text": [
      "[2.73972603 1.59195758 2.0508175  2.37322139 1.75033142 2.4475475\n",
      " 1.37931949]\n",
      "[ 0.22182943  0.12443659  0.0597437   0.14997791  0.15068493  0.21961997\n",
      " -0.0670791  -0.19125055 -0.03066726 -0.17286787  0.04569156 -0.06734423\n",
      "  0.17207247 -0.09032258  0.16111357  0.11330093 -0.01732214  0.21175431\n",
      " -0.11798498  0.11736633  0.18912947]\n",
      "(1, 6, 4, 3, 5, 2, 7)\n",
      "(1, 6, 4, 3, 5, 2, 7)\n"
     ]
    }
   ],
   "source": [
    "print(BP_center_proxy)\n",
    "print(HH_center_proxy)\n",
    "print(BP_center)\n",
    "print(HH_center)"
   ]
  },
  {
   "cell_type": "code",
   "execution_count": 39,
   "metadata": {},
   "outputs": [],
   "source": [
    "# determine the portion of elections in which the Lloyd_BP and Lloyd_HH centers agree\n",
    "good_count = 0\n",
    "bad_count = 0\n",
    "inconsistent_count = 0\n",
    "\n",
    "for index in df.index:\n",
    "    technique = df['technique'][index]\n",
    "    if technique != 'Lloyd_BP':\n",
    "        continue\n",
    "    BP_centers = df['centers'][index]\n",
    "    filename = df['filename'][index]\n",
    "    row_index = df[(df['filename'] == filename) & (df['technique'] == 'Lloyd_HH')].index[0]\n",
    "    HH_centers = df['centers'][row_index]\n",
    "    if df['center_proxy_match_good'][row_index] == False:\n",
    "        inconsistent_count += 1\n",
    "    elif set(BP_centers) == set(HH_centers):\n",
    "        good_count += 1\n",
    "    else:\n",
    "        bad_count += 1"
   ]
  },
  {
   "cell_type": "code",
   "execution_count": 40,
   "metadata": {},
   "outputs": [
    {
     "data": {
      "text/plain": [
       "(1038, 0, 32)"
      ]
     },
     "execution_count": 40,
     "metadata": {},
     "output_type": "execute_result"
    }
   ],
   "source": [
    "# number of elections in which the Lloyd_BP and Lloyd_HH centers (agree, disagree, have inconsistent HH centers)\n",
    "good_count, bad_count, inconsistent_count"
   ]
  },
  {
   "cell_type": "code",
   "execution_count": 63,
   "metadata": {},
   "outputs": [],
   "source": [
    "def same_gen_ballots(b1,b2):\n",
    "    \"\"\"\n",
    "    Returns True if the two generalized ballots are the same, False otherwise.\n",
    "    \"\"\"\n",
    "    b1 = list(b1)\n",
    "    b2 = list(b2)\n",
    "    if len(b1) != len(b2):\n",
    "        return False\n",
    "    for i in range(len(b1)):\n",
    "        S1 = b1[i] if type(b1[i]) == set else {b1[i]}\n",
    "        S2 = b2[i] if type(b2[i]) == set else {b2[i]}\n",
    "        if S1 != S2:\n",
    "            return False\n",
    "    return True"
   ]
  },
  {
   "cell_type": "code",
   "execution_count": 67,
   "metadata": {},
   "outputs": [],
   "source": [
    "# Re-do the above calculation for the clustering that places all ballots into a single cluster.\n",
    "# That is, determine the portion of elections for which the Lloyd_BP and Lloyd_HH centers of the WHOLE ELECTION\n",
    "# (agree, disagree, have inconsisetent HH centers)\n",
    "\n",
    "# We also count up the times that the Lloyd_BP and Lloyd_HH centers include ties.\n",
    "\n",
    "good_count = 0\n",
    "bad_count = 0\n",
    "inconsistent_count = 0\n",
    "\n",
    "BP_ties = 0\n",
    "HH_ties = 0\n",
    "\n",
    "full_filename_list = glob.glob(\"scot-elex/**/*.csv\")\n",
    "for full_filename in full_filename_list:\n",
    "    filename = os.path.basename(full_filename)\n",
    "    num_cands, election, cand_names, location = csv_parse(full_filename)\n",
    "    BP_center_proxy, _ = Centroid_and_Medoid(election, num_cands, proxy = 'Borda', borda_style='pes', metric = 'Euclidean')\n",
    "    HH_center_proxy, _ = Centroid_and_Medoid(election, num_cands, proxy = 'HH', metric = 'Euclidean')\n",
    "    BP_center = Reverse_Borda(BP_center_proxy)\n",
    "    HH_center = Reverse_HH(HH_center_proxy)\n",
    "    #print(full_filename)\n",
    "    if HH_center == None:\n",
    "        inconsistent_count += 1\n",
    "    elif same_gen_ballots(BP_center, HH_center):\n",
    "        good_count += 1\n",
    "    else:\n",
    "        bad_count += 1\n",
    "    if type(BP_center[0])==set:\n",
    "        BP_ties += 1\n",
    "    if HH_center != None and type(HH_center[0])==set:\n",
    "        HH_ties += 1"
   ]
  },
  {
   "cell_type": "code",
   "execution_count": 68,
   "metadata": {},
   "outputs": [
    {
     "data": {
      "text/plain": [
       "(540, 487, 43)"
      ]
     },
     "execution_count": 68,
     "metadata": {},
     "output_type": "execute_result"
    }
   ],
   "source": [
    "good_count, bad_count, inconsistent_count"
   ]
  },
  {
   "cell_type": "code",
   "execution_count": 69,
   "metadata": {},
   "outputs": [
    {
     "data": {
      "text/plain": [
       "(0, 2)"
      ]
     },
     "execution_count": 69,
     "metadata": {},
     "output_type": "execute_result"
    }
   ],
   "source": [
    "BP_ties, HH_ties"
   ]
  },
  {
   "cell_type": "code",
   "execution_count": null,
   "metadata": {},
   "outputs": [],
   "source": []
  }
 ],
 "metadata": {
  "kernelspec": {
   "display_name": "Python 3",
   "language": "python",
   "name": "python3"
  },
  "language_info": {
   "codemirror_mode": {
    "name": "ipython",
    "version": 3
   },
   "file_extension": ".py",
   "mimetype": "text/x-python",
   "name": "python",
   "nbconvert_exporter": "python",
   "pygments_lexer": "ipython3",
   "version": "3.11.8"
  }
 },
 "nbformat": 4,
 "nbformat_minor": 2
}
